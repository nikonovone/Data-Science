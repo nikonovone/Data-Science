{
 "cells": [
  {
   "cell_type": "markdown",
   "id": "e5da579b",
   "metadata": {},
   "source": [
    "## **Loading data**"
   ]
  },
  {
   "cell_type": "code",
   "execution_count": 1,
   "id": "cdb032f1",
   "metadata": {},
   "outputs": [
    {
     "name": "stderr",
     "output_type": "stream",
     "text": [
      "A subdirectory or file Data already exists.\n",
      "The syntax of the command is incorrect.\n",
      "'wget' is not recognized as an internal or external command,\n",
      "operable program or batch file.\n",
      "'wget' is not recognized as an internal or external command,\n",
      "operable program or batch file.\n",
      "'wget' is not recognized as an internal or external command,\n",
      "operable program or batch file.\n",
      "'wget' is not recognized as an internal or external command,\n",
      "operable program or batch file.\n",
      "'wget' is not recognized as an internal or external command,\n",
      "operable program or batch file.\n",
      "'wget' is not recognized as an internal or external command,\n",
      "operable program or batch file.\n",
      "'wget' is not recognized as an internal or external command,\n",
      "operable program or batch file.\n",
      "'wget' is not recognized as an internal or external command,\n",
      "operable program or batch file.\n",
      "'wget' is not recognized as an internal or external command,\n",
      "operable program or batch file.\n",
      "'unzip' is not recognized as an internal or external command,\n",
      "operable program or batch file.\n",
      "'unzip' is not recognized as an internal or external command,\n",
      "operable program or batch file.\n",
      "'unzip' is not recognized as an internal or external command,\n",
      "operable program or batch file.\n",
      "'rm' is not recognized as an internal or external command,\n",
      "operable program or batch file.\n",
      "'rm' is not recognized as an internal or external command,\n",
      "operable program or batch file.\n",
      "'rm' is not recognized as an internal or external command,\n",
      "operable program or batch file.\n"
     ]
    }
   ],
   "source": [
    "!mkdir Data\n",
    "!mkdir Data/baseline_catboost\n",
    "\n",
    "!wget https://storage.yandexcloud.net/datasouls-ods/materials/0433a4ca/transactions.zip -P Data\n",
    "!wget https://storage.yandexcloud.net/datasouls-ods/materials/0554f0cf/clickstream.zip -P Data\n",
    "!wget https://storage.yandexcloud.net/datasouls-ods/materials/acfacf11/train_matching.csv -P Data\n",
    "!wget https://storage.yandexcloud.net/datasouls-ods/materials/b949c04c/mcc_codes.csv -P Data\n",
    "!wget https://storage.yandexcloud.net/datasouls-ods/materials/705abbab/click_categories.csv -P Data\n",
    "!wget https://storage.yandexcloud.net/datasouls-ods/materials/e33f2201/currency_rk.csv -P Data\n",
    "!wget https://storage.yandexcloud.net/datasouls-ods/materials/b99fed70/puzzle.csv -P Data\n",
    "!wget https://storage.yandexcloud.net/datasouls-ods/materials/f76e8087/sample_submission.csv -P Data\n",
    "!wget https://storage.yandexcloud.net/datasouls-ods/materials/24687252/baseline_catboost.zip -P Data\n",
    "    \n",
    "!unzip Data/transactions.zip -d Data\n",
    "!unzip Data/clickstream.zip -d Data\n",
    "!unzip Data/baseline_catboost.zip -d Data/baseline_catboost\n",
    "\n",
    "!rm Data/transactions.zip\n",
    "!rm Data/clickstream.zip\n",
    "!rm Data/baseline_catboost.zip"
   ]
  },
  {
   "cell_type": "markdown",
   "id": "bfba2731",
   "metadata": {},
   "source": [
    "## **Import libraries**"
   ]
  },
  {
   "cell_type": "code",
   "execution_count": 2,
   "id": "1a61de78",
   "metadata": {
    "ExecuteTime": {
     "end_time": "2022-03-22T14:52:10.863412Z",
     "start_time": "2022-03-22T14:52:09.108380Z"
    }
   },
   "outputs": [],
   "source": [
    "import numpy as np\n",
    "import pandas as pd\n",
    "import matplotlib.pyplot as plt\n",
    "import seaborn as sns\n",
    "import gc\n",
    "import pickle\n",
    "import sys\n",
    "import warnings\n",
    "from catboost import CatBoostClassifier, Pool\n",
    "from sklearn.preprocessing import LabelEncoder\n",
    "\n",
    "colors = sns.cubehelix_palette(start=.5, rot=-.5)\n",
    "palette = plt.get_cmap('cubehelix')\n",
    "plt.style.use('seaborn-darkgrid')\n",
    "warnings.filterwarnings('ignore')"
   ]
  },
  {
   "cell_type": "code",
   "execution_count": 3,
   "id": "ab20fcdc",
   "metadata": {},
   "outputs": [],
   "source": [
    "# вспомогательная функция для контроля за памятью\n",
    "\n",
    "from psutil import virtual_memory\n",
    "ram_gb = round(virtual_memory().total / 1024**3, 1)\n",
    "def print_memory():\n",
    "    print('memory used', round(virtual_memory().used/1024/1024/1024,2), 'Gb', end = ' | ')\n",
    "    print('memory available', round(virtual_memory().available/1024/1024/1024,2), 'Gb', end = ' | ')\n",
    "    print('memory available', round(virtual_memory().available * 100 / virtual_memory().total,2), 'percent')"
   ]
  },
  {
   "cell_type": "code",
   "execution_count": 4,
   "id": "8a6cf676",
   "metadata": {},
   "outputs": [],
   "source": [
    "all_dicts = {}"
   ]
  },
  {
   "cell_type": "code",
   "execution_count": 5,
   "id": "9aabbbc1",
   "metadata": {},
   "outputs": [
    {
     "name": "stdout",
     "output_type": "stream",
     "text": [
      "memory used 5.35 Gb | memory available 6.55 Gb | memory available 55.04 percent\n"
     ]
    }
   ],
   "source": [
    "print_memory()"
   ]
  },
  {
   "cell_type": "markdown",
   "id": "3c8a65c6",
   "metadata": {},
   "source": [
    "## **Reading and proccesing data**"
   ]
  },
  {
   "cell_type": "markdown",
   "id": "3e11d81c",
   "metadata": {},
   "source": [
    "### **Main files**"
   ]
  },
  {
   "cell_type": "code",
   "execution_count": 6,
   "id": "f709289d",
   "metadata": {},
   "outputs": [],
   "source": [
    "# reading data\n",
    "transactions = pd.read_csv('C:/Coding/Python/VTB/Data/transactions.csv')\n",
    "clickstream = pd.read_csv('C:/Coding/Python/VTB/Data/clickstream.csv')"
   ]
  },
  {
   "cell_type": "code",
   "execution_count": 7,
   "id": "edba898f",
   "metadata": {},
   "outputs": [
    {
     "name": "stdout",
     "output_type": "stream",
     "text": [
      "Transactions:\n",
      " user_id              object\n",
      "mcc_code              int64\n",
      "currency_rk           int64\n",
      "transaction_amt     float64\n",
      "transaction_dttm     object\n",
      "dtype: object \n",
      " \n",
      "Clickstream:\n",
      " user_id      object\n",
      "cat_id        int64\n",
      "timestamp    object\n",
      "new_uid       int64\n",
      "dtype: object\n"
     ]
    }
   ],
   "source": [
    "print('Transactions:\\n',transactions.dtypes, '\\n', '\\nClickstream:\\n', clickstream.dtypes)"
   ]
  },
  {
   "cell_type": "code",
   "execution_count": 8,
   "id": "a474fd3b",
   "metadata": {},
   "outputs": [],
   "source": [
    "# transform \"object\" for transaction_dttm, timestamp to datetime type\n",
    "\n",
    "transactions['transaction_dttm'] = pd.to_datetime(transactions['transaction_dttm'])\n",
    "clickstream['timestamp'] = pd.to_datetime(clickstream['timestamp'])"
   ]
  },
  {
   "cell_type": "markdown",
   "id": "a61e9c4a",
   "metadata": {},
   "source": [
    "#### **Clickstream**"
   ]
  },
  {
   "cell_type": "code",
   "execution_count": 9,
   "id": "361af041",
   "metadata": {},
   "outputs": [
    {
     "name": "stdout",
     "output_type": "stream",
     "text": [
      "Shape of clickstream:  (126752515, 4)\n"
     ]
    },
    {
     "data": {
      "text/html": [
       "<div>\n",
       "<style scoped>\n",
       "    .dataframe tbody tr th:only-of-type {\n",
       "        vertical-align: middle;\n",
       "    }\n",
       "\n",
       "    .dataframe tbody tr th {\n",
       "        vertical-align: top;\n",
       "    }\n",
       "\n",
       "    .dataframe thead th {\n",
       "        text-align: right;\n",
       "    }\n",
       "</style>\n",
       "<table border=\"1\" class=\"dataframe\">\n",
       "  <thead>\n",
       "    <tr style=\"text-align: right;\">\n",
       "      <th></th>\n",
       "      <th>user_id</th>\n",
       "      <th>cat_id</th>\n",
       "      <th>timestamp</th>\n",
       "      <th>new_uid</th>\n",
       "    </tr>\n",
       "  </thead>\n",
       "  <tbody>\n",
       "    <tr>\n",
       "      <th>0</th>\n",
       "      <td>000143baebad4467a23b98c918ccda19</td>\n",
       "      <td>165</td>\n",
       "      <td>2021-01-30 20:08:12</td>\n",
       "      <td>1873448</td>\n",
       "    </tr>\n",
       "    <tr>\n",
       "      <th>1</th>\n",
       "      <td>000143baebad4467a23b98c918ccda19</td>\n",
       "      <td>165</td>\n",
       "      <td>2021-01-31 20:06:29</td>\n",
       "      <td>1873448</td>\n",
       "    </tr>\n",
       "  </tbody>\n",
       "</table>\n",
       "</div>"
      ],
      "text/plain": [
       "                            user_id  cat_id           timestamp  new_uid\n",
       "0  000143baebad4467a23b98c918ccda19     165 2021-01-30 20:08:12  1873448\n",
       "1  000143baebad4467a23b98c918ccda19     165 2021-01-31 20:06:29  1873448"
      ]
     },
     "execution_count": 9,
     "metadata": {},
     "output_type": "execute_result"
    }
   ],
   "source": [
    "print('Shape of clickstream: ', clickstream.shape)\n",
    "clickstream.head(2)"
   ]
  },
  {
   "cell_type": "code",
   "execution_count": 10,
   "id": "62c1b5fe",
   "metadata": {},
   "outputs": [
    {
     "name": "stdout",
     "output_type": "stream",
     "text": [
      "user_id \t 19623 \t 000143baebad4467a23b98c918ccda19  -  ffff8348710b49c78ffa8c13b00b22f4\n",
      "cat_id \t 402 \t 1  -  1861\n",
      "timestamp \t 5840311 \t 2021-01-17 18:42:39  -  2021-08-14 22:41:59\n",
      "new_uid \t 81285 \t 21  -  1873964\n"
     ]
    }
   ],
   "source": [
    "for col in clickstream:\n",
    "    print(col, '\\t', clickstream[col].nunique(), '\\t', clickstream[col].min(), ' - ', clickstream[col].max())"
   ]
  },
  {
   "cell_type": "markdown",
   "id": "e2cb3dce",
   "metadata": {},
   "source": [
    "*In file clickstream.csv 126.7 millions rows, 19623 unique clients, 402 unique categories and 81285 unique devices. Time - mid-January to mid-August 2021*"
   ]
  },
  {
   "cell_type": "code",
   "execution_count": 11,
   "id": "784d1e8c",
   "metadata": {},
   "outputs": [],
   "source": [
    "# data reduction by encoding\n",
    "all_dicts['rtk_le'] = LabelEncoder().fit(clickstream['user_id'])\n",
    "clickstream['user_id'] = all_dicts['rtk_le'].transform(clickstream['user_id'])+1\n",
    "clickstream_dtypes = {'user_id':np.int16, 'cat_id':np.int16, 'new_uid':np.int32}\n",
    "clickstream = clickstream.astype(clickstream_dtypes)"
   ]
  },
  {
   "cell_type": "code",
   "execution_count": 12,
   "id": "13033f09",
   "metadata": {},
   "outputs": [
    {
     "name": "stdout",
     "output_type": "stream",
     "text": [
      "For each RTC user, there is  6459.4  unique entries\n",
      "For each RTC user, there is  4.1  unique devices\n"
     ]
    }
   ],
   "source": [
    "print('For each RTC user, there is ', round(clickstream.shape[0] / clickstream['user_id'].nunique(),1), ' unique entries')\n",
    "print('For each RTC user, there is ', round(clickstream['new_uid'].nunique() / clickstream['user_id'].nunique(),1), ' unique devices')"
   ]
  },
  {
   "cell_type": "code",
   "execution_count": 13,
   "id": "e615e446",
   "metadata": {},
   "outputs": [
    {
     "data": {
      "image/png": "[encoded data removed]",
      "text/plain": [
       "<Figure size 1152x288 with 2 Axes>"
      ]
     },
     "metadata": {},
     "output_type": "display_data"
    }
   ],
   "source": [
    "# Let's look at the distribution of the start and end times of customer activity\n",
    "fig, axes = plt.subplots(1,2, figsize = (16,4))\n",
    "sns.histplot(clickstream.groupby('user_id')['timestamp'].min(), bins= 50, ax = axes[0], kde = True, alpha = 0.25, palette = palette)\n",
    "sns.histplot(clickstream.groupby('user_id')['timestamp'].max(), bins= 50, ax = axes[1], kde = True, alpha = 0.25, palette = palette);"
   ]
  },
  {
   "cell_type": "code",
   "execution_count": 14,
   "id": "daee4e3a",
   "metadata": {},
   "outputs": [
    {
     "data": {
      "image/png": "[encoded data removed]",
      "text/plain": [
       "<Figure size 1152x288 with 2 Axes>"
      ]
     },
     "metadata": {},
     "output_type": "display_data"
    }
   ],
   "source": [
    "# Let's look at the distribution of the number of unique categories and devices for each client\n",
    "fig, axes = plt.subplots(1,2, figsize = (16,4))\n",
    "sns.histplot(clickstream.groupby('user_id')['cat_id'].agg(pd.Series.nunique), palette=palette, kde = True, alpha = 0.25, bins = 75, ax = axes[0])\n",
    "t = clickstream.groupby('user_id')['new_uid'].agg(pd.Series.nunique)\n",
    "sns.histplot(t[t<21],bins=20,palette=palette, kde = True, alpha = 0.25, ax = axes[1]);"
   ]
  },
  {
   "cell_type": "code",
   "execution_count": 15,
   "metadata": {},
   "outputs": [
    {
     "name": "stdout",
     "output_type": "stream",
     "text": [
      "Clickstream by cat_id info:\n",
      " count    19623.000000\n",
      "mean        43.679254\n",
      "std         17.641016\n",
      "min          1.000000\n",
      "25%         32.000000\n",
      "50%         45.000000\n",
      "75%         56.000000\n",
      "max        184.000000\n",
      "Name: cat_id, dtype: float64 \n",
      "\n",
      "Clickstream by new_uid info:\n",
      " count    19623.000000\n",
      "mean         4.142333\n",
      "std          5.156828\n",
      "min          1.000000\n",
      "25%          2.000000\n",
      "50%          3.000000\n",
      "75%          5.000000\n",
      "max        419.000000\n",
      "Name: new_uid, dtype: float64\n"
     ]
    }
   ],
   "source": [
    "print('Clickstream by cat_id info:\\n', clickstream.groupby('user_id')['cat_id'].agg(pd.Series.nunique).describe(), '\\n')\n",
    "print('Clickstream by new_uid info:\\n', clickstream.groupby('user_id')['new_uid'].agg(pd.Series.nunique).describe())"
   ]
  },
  {
   "cell_type": "markdown",
   "id": "a61e9c4a",
   "metadata": {},
   "source": [
    "#### **Transactions**"
   ]
  },
  {
   "cell_type": "code",
   "execution_count": 16,
   "id": "361af041",
   "metadata": {},
   "outputs": [
    {
     "name": "stdout",
     "output_type": "stream",
     "text": [
      "Shape of transactions:  (19821910, 5)\n"
     ]
    },
    {
     "data": {
      "text/html": [
       "<div>\n",
       "<style scoped>\n",
       "    .dataframe tbody tr th:only-of-type {\n",
       "        vertical-align: middle;\n",
       "    }\n",
       "\n",
       "    .dataframe tbody tr th {\n",
       "        vertical-align: top;\n",
       "    }\n",
       "\n",
       "    .dataframe thead th {\n",
       "        text-align: right;\n",
       "    }\n",
       "</style>\n",
       "<table border=\"1\" class=\"dataframe\">\n",
       "  <thead>\n",
       "    <tr style=\"text-align: right;\">\n",
       "      <th></th>\n",
       "      <th>user_id</th>\n",
       "      <th>mcc_code</th>\n",
       "      <th>currency_rk</th>\n",
       "      <th>transaction_amt</th>\n",
       "      <th>transaction_dttm</th>\n",
       "    </tr>\n",
       "  </thead>\n",
       "  <tbody>\n",
       "    <tr>\n",
       "      <th>0</th>\n",
       "      <td>000932580e404dafbecd5916d4640938</td>\n",
       "      <td>5411</td>\n",
       "      <td>48</td>\n",
       "      <td>-361.07230</td>\n",
       "      <td>2020-08-03 08:05:23</td>\n",
       "    </tr>\n",
       "    <tr>\n",
       "      <th>1</th>\n",
       "      <td>000932580e404dafbecd5916d4640938</td>\n",
       "      <td>5499</td>\n",
       "      <td>48</td>\n",
       "      <td>-137.31398</td>\n",
       "      <td>2020-08-05 01:27:40</td>\n",
       "    </tr>\n",
       "  </tbody>\n",
       "</table>\n",
       "</div>"
      ],
      "text/plain": [
       "                            user_id  mcc_code  currency_rk  transaction_amt  \\\n",
       "0  000932580e404dafbecd5916d4640938      5411           48       -361.07230   \n",
       "1  000932580e404dafbecd5916d4640938      5499           48       -137.31398   \n",
       "\n",
       "     transaction_dttm  \n",
       "0 2020-08-03 08:05:23  \n",
       "1 2020-08-05 01:27:40  "
      ]
     },
     "execution_count": 16,
     "metadata": {},
     "output_type": "execute_result"
    }
   ],
   "source": [
    "print('Shape of transactions: ', transactions.shape)\n",
    "transactions.head(2)"
   ]
  },
  {
   "cell_type": "code",
   "execution_count": 17,
   "id": "62c1b5fe",
   "metadata": {},
   "outputs": [
    {
     "name": "stdout",
     "output_type": "stream",
     "text": [
      "user_id \t 22533 \t 000932580e404dafbecd5916d4640938  -  fffb051877b949f49bed6538393a06ae\n",
      "mcc_code \t 386 \t -1  -  9406\n",
      "currency_rk \t 4 \t -1  -  60\n",
      "transaction_amt \t 17063000 \t -230044.03  -  346395.34\n",
      "transaction_dttm \t 12787367 \t 2020-07-17 18:59:38  -  2021-08-14 21:13:26\n"
     ]
    }
   ],
   "source": [
    "for col in transactions:\n",
    "    print(col, '\\t', transactions[col].nunique(), '\\t', transactions[col].min(), ' - ', transactions[col].max())"
   ]
  },
  {
   "cell_type": "markdown",
   "id": "e2cb3dce",
   "metadata": {},
   "source": [
    "*In file transactions.csv 19.8 millions rows, 22533 unique clients, 386 unique mcc_codes and 4 unique currencies. Time - mid-July 2020 to mid-August 2021*"
   ]
  },
  {
   "cell_type": "code",
   "execution_count": 18,
   "id": "784d1e8c",
   "metadata": {},
   "outputs": [],
   "source": [
    "# data size reduction by encoding\n",
    "all_dicts['bank_le'] = LabelEncoder().fit(transactions['user_id'])\n",
    "transactions['user_id'] = all_dicts['bank_le'].transform(transactions['user_id'])+1\n",
    "transactions_dtypes = {'user_id':np.int16, 'mcc_code':np.int16, 'currency_rk':np.int8}\n",
    "transactions = transactions.astype(transactions_dtypes)"
   ]
  },
  {
   "cell_type": "code",
   "execution_count": 19,
   "id": "13033f09",
   "metadata": {},
   "outputs": [
    {
     "name": "stdout",
     "output_type": "stream",
     "text": [
      "For each bank user, there is  879.7  unique entries\n"
     ]
    }
   ],
   "source": [
    "print('For each bank user, there is ', round(transactions.shape[0] / transactions['user_id'].nunique(),1), ' unique entries')"
   ]
  },
  {
   "cell_type": "code",
   "execution_count": 20,
   "id": "e615e446",
   "metadata": {},
   "outputs": [
    {
     "data": {
      "image/png": "[encoded data removed]",
      "text/plain": [
       "<Figure size 1152x288 with 2 Axes>"
      ]
     },
     "metadata": {},
     "output_type": "display_data"
    }
   ],
   "source": [
    "# Let's look at the distribution of the start and end times of customer activity\n",
    "fig, axes = plt.subplots(1,2, figsize = (16,4))\n",
    "fig.autofmt_xdate(rotation=45 )\n",
    "sns.histplot(transactions.groupby('user_id')['transaction_dttm'].min(), bins= 50, ax = axes[0], kde = True, alpha = 0.25, palette = palette)\n",
    "sns.histplot(transactions.groupby('user_id')['transaction_dttm'].max(), bins= 50, ax = axes[1], kde = True, alpha = 0.25, palette = palette);"
   ]
  },
  {
   "cell_type": "code",
   "execution_count": 21,
   "id": "409adec9",
   "metadata": {},
   "outputs": [
    {
     "data": {
      "text/plain": [
       " 48    19765158\n",
       "-1        27405\n",
       " 50       20364\n",
       " 60        8983\n",
       "Name: currency_rk, dtype: int64"
      ]
     },
     "execution_count": 21,
     "metadata": {},
     "output_type": "execute_result"
    }
   ],
   "source": [
    "# frequency of currency\n",
    "transactions.currency_rk.value_counts()"
   ]
  },
  {
   "cell_type": "code",
   "execution_count": 30,
   "id": "e3402bd0",
   "metadata": {},
   "outputs": [
    {
     "data": {
      "text/plain": [
       "<AxesSubplot:xlabel='transaction_amt', ylabel='Count'>"
      ]
     },
     "execution_count": 30,
     "metadata": {},
     "output_type": "execute_result"
    },
    {
     "data": {
      "image/png": "[encoded data removed]",
      "text/plain": [
       "<Figure size 432x288 with 1 Axes>"
      ]
     },
     "metadata": {},
     "output_type": "display_data"
    }
   ],
   "source": [
    "# Distribution transaction_amt\n",
    "std = transactions['transaction_amt'].std()\n",
    "mean = transactions['transaction_amt'].mean()\n",
    "ind = (transactions['transaction_amt']>=mean-std)&(transactions['transaction_amt']<=mean+std)\n",
    "data = transactions.loc[ind, 'transaction_amt']\n",
    "sns.histplot( data, bins= 75, alpha = 0.25, palette = palette)"
   ]
  },
  {
   "cell_type": "code",
   "execution_count": 32,
   "id": "4f159bd5",
   "metadata": {},
   "outputs": [
    {
     "data": {
      "text/plain": [
       "<AxesSubplot:xlabel='mcc_code', ylabel='Count'>"
      ]
     },
     "execution_count": 32,
     "metadata": {},
     "output_type": "execute_result"
    },
    {
     "data": {
      "image/png": "[encoded data removed]",
      "text/plain": [
       "<Figure size 432x288 with 1 Axes>"
      ]
     },
     "metadata": {},
     "output_type": "display_data"
    }
   ],
   "source": [
    "# Distribution unique  categories (mcc_codes)\n",
    "sns.histplot(transactions.groupby('user_id')['mcc_code'].agg(pd.Series.nunique), palette=palette, kde = True, alpha = 0.25, bins = 75)"
   ]
  },
  {
   "cell_type": "code",
   "execution_count": 33,
   "id": "2c6e23f5",
   "metadata": {},
   "outputs": [
    {
     "name": "stdout",
     "output_type": "stream",
     "text": [
      "Transactions by mcc_code info:\n",
      " count    22533.000000\n",
      "mean        47.171393\n",
      "std         14.893906\n",
      "min          1.000000\n",
      "25%         37.000000\n",
      "50%         45.000000\n",
      "75%         56.000000\n",
      "max        119.000000\n",
      "Name: mcc_code, dtype: float64 \n",
      "\n"
     ]
    }
   ],
   "source": [
    "print('Transactions by mcc_code info:\\n', transactions.groupby('user_id')['mcc_code'].agg(pd.Series.nunique).describe(), '\\n')"
   ]
  },
  {
   "cell_type": "markdown",
   "id": "fa4ad177",
   "metadata": {},
   "source": [
    "### **Additional files**"
   ]
  },
  {
   "cell_type": "markdown",
   "id": "2f93238c",
   "metadata": {},
   "source": [
    "#### **Categories**"
   ]
  },
  {
   "cell_type": "code",
   "execution_count": 34,
   "id": "c56b50c8",
   "metadata": {},
   "outputs": [
    {
     "name": "stdout",
     "output_type": "stream",
     "text": [
      "(402, 4)\n"
     ]
    },
    {
     "data": {
      "text/html": [
       "<div>\n",
       "<style scoped>\n",
       "    .dataframe tbody tr th:only-of-type {\n",
       "        vertical-align: middle;\n",
       "    }\n",
       "\n",
       "    .dataframe tbody tr th {\n",
       "        vertical-align: top;\n",
       "    }\n",
       "\n",
       "    .dataframe thead th {\n",
       "        text-align: right;\n",
       "    }\n",
       "</style>\n",
       "<table border=\"1\" class=\"dataframe\">\n",
       "  <thead>\n",
       "    <tr style=\"text-align: right;\">\n",
       "      <th></th>\n",
       "      <th>cat_id</th>\n",
       "      <th>level_0</th>\n",
       "      <th>level_1</th>\n",
       "      <th>level_2</th>\n",
       "    </tr>\n",
       "  </thead>\n",
       "  <tbody>\n",
       "    <tr>\n",
       "      <th>0</th>\n",
       "      <td>1</td>\n",
       "      <td>accessories</td>\n",
       "      <td>NaN</td>\n",
       "      <td>NaN</td>\n",
       "    </tr>\n",
       "    <tr>\n",
       "      <th>1</th>\n",
       "      <td>2</td>\n",
       "      <td>accessories</td>\n",
       "      <td>handbags</td>\n",
       "      <td>NaN</td>\n",
       "    </tr>\n",
       "  </tbody>\n",
       "</table>\n",
       "</div>"
      ],
      "text/plain": [
       "   cat_id      level_0   level_1 level_2\n",
       "0       1  accessories       NaN     NaN\n",
       "1       2  accessories  handbags     NaN"
      ]
     },
     "execution_count": 34,
     "metadata": {},
     "output_type": "execute_result"
    }
   ],
   "source": [
    "click_categories = pd.read_csv('Data/click_categories.csv')\n",
    "print(click_categories.shape)\n",
    "click_categories.head(2)"
   ]
  },
  {
   "cell_type": "code",
   "execution_count": 59,
   "id": "421c5705",
   "metadata": {},
   "outputs": [
    {
     "name": "stdout",
     "output_type": "stream",
     "text": [
      "cat_id     402\n",
      "level_0    85\n",
      "level_1    280\n",
      "level_2    56\n"
     ]
    }
   ],
   "source": [
    "click_categories.fillna('', inplace=True)\n",
    "for col in click_categories:\n",
    "    print(f\"{col:<10}\",click_categories[col].nunique() )"
   ]
  },
  {
   "cell_type": "code",
   "execution_count": 94,
   "id": "95a72684",
   "metadata": {},
   "outputs": [
    {
     "name": "stdout",
     "output_type": "stream",
     "text": [
      "level_0: public_services      24         level_1:                      \t 81         level_2:                      \t 347       \n",
      "level_0: health               23         level_1: school_education     \t 6          level_2: body_treatments      \t 1         \n",
      "level_0: occupation           22         level_1: household_services   \t 6          level_2: utilities_sector     \t 1         \n",
      "level_0: education            17         level_1: business_automation  \t 4          level_2: orphanage            \t 1         \n",
      "level_0: cars                 15         level_1: farming              \t 4          level_2: cigarettes           \t 1         \n"
     ]
    }
   ],
   "source": [
    "for i in range(5):\n",
    "    print(\n",
    "        'level_0:',f\"{click_categories['level_0'].value_counts().index[i]:<20}\",\n",
    "        f\"{click_categories['level_0'].value_counts()[i]:<10}\",\n",
    "        \n",
    "        'level_1:',f\"{click_categories['level_1'].value_counts().index[i]:<20}\", '\\t',\n",
    "        f\"{click_categories['level_1'].value_counts()[i]:<10}\",\n",
    "\n",
    "        'level_2:',f\"{click_categories['level_2'].value_counts().index[i]:<20}\", '\\t',\n",
    "        f\"{click_categories['level_2'].value_counts()[i]:<10}\",\n",
    "    )\n"
   ]
  },
  {
   "cell_type": "markdown",
   "id": "2f93238c",
   "metadata": {},
   "source": [
    "#### **Mcc_code**"
   ]
  },
  {
   "cell_type": "code",
   "execution_count": 96,
   "id": "c56b50c8",
   "metadata": {},
   "outputs": [
    {
     "name": "stdout",
     "output_type": "stream",
     "text": [
      "(385, 3)\n"
     ]
    },
    {
     "data": {
      "text/html": [
       "<div>\n",
       "<style scoped>\n",
       "    .dataframe tbody tr th:only-of-type {\n",
       "        vertical-align: middle;\n",
       "    }\n",
       "\n",
       "    .dataframe tbody tr th {\n",
       "        vertical-align: top;\n",
       "    }\n",
       "\n",
       "    .dataframe thead th {\n",
       "        text-align: right;\n",
       "    }\n",
       "</style>\n",
       "<table border=\"1\" class=\"dataframe\">\n",
       "  <thead>\n",
       "    <tr style=\"text-align: right;\">\n",
       "      <th></th>\n",
       "      <th>MCC</th>\n",
       "      <th>Название</th>\n",
       "      <th>Описание</th>\n",
       "    </tr>\n",
       "  </thead>\n",
       "  <tbody>\n",
       "    <tr>\n",
       "      <th>0</th>\n",
       "      <td>742</td>\n",
       "      <td>Ветеринарные услуги</td>\n",
       "      <td>Лицензированные специалисты в основном занимаю...</td>\n",
       "    </tr>\n",
       "    <tr>\n",
       "      <th>1</th>\n",
       "      <td>763</td>\n",
       "      <td>Сельскохозяйственные кооперативы</td>\n",
       "      <td>Ассоциации и кооперативы, которые предоставляю...</td>\n",
       "    </tr>\n",
       "  </tbody>\n",
       "</table>\n",
       "</div>"
      ],
      "text/plain": [
       "   MCC                          Название  \\\n",
       "0  742               Ветеринарные услуги   \n",
       "1  763  Сельскохозяйственные кооперативы   \n",
       "\n",
       "                                            Описание  \n",
       "0  Лицензированные специалисты в основном занимаю...  \n",
       "1  Ассоциации и кооперативы, которые предоставляю...  "
      ]
     },
     "execution_count": 96,
     "metadata": {},
     "output_type": "execute_result"
    }
   ],
   "source": [
    "mcc = pd.read_csv('Data/mcc_codes.csv')\n",
    "print(mcc.shape)\n",
    "mcc.head(2)"
   ]
  },
  {
   "cell_type": "code",
   "execution_count": 98,
   "id": "421c5705",
   "metadata": {},
   "outputs": [
    {
     "name": "stdout",
     "output_type": "stream",
     "text": [
      "MCC        385\n",
      "Название   378\n",
      "Описание   290\n"
     ]
    }
   ],
   "source": [
    "mcc.fillna('', inplace=True)\n",
    "for col in mcc:\n",
    "    print(f\"{col:<10}\",mcc[col].nunique() )"
   ]
  },
  {
   "cell_type": "code",
   "execution_count": 101,
   "id": "95a72684",
   "metadata": {},
   "outputs": [
    {
     "name": "stdout",
     "output_type": "stream",
     "text": [
      "Отели, мотели, курорты                             7                                                 \n",
      "Денежные переводы                                  2                                                 \n",
      "Ветеринарные услуги                                1                                                 \n",
      "Квази-Кэш – Нефинансовые учреждения                1                                                 \n",
      "Финансовые учреждения – торговля и услуги          1                                                 \n"
     ]
    }
   ],
   "source": [
    "for i in range(5):\n",
    "    print(\n",
    "        f\"{mcc['Название'].value_counts().index[i]:<50}\",\n",
    "        f\"{mcc['Название'].value_counts()[i]:<50}\",\n",
    "    )\n"
   ]
  },
  {
   "cell_type": "markdown",
   "id": "ffbe9975",
   "metadata": {},
   "source": [
    "#### **Currency**"
   ]
  },
  {
   "cell_type": "code",
   "execution_count": 106,
   "id": "c6e4c01a",
   "metadata": {},
   "outputs": [
    {
     "name": "stdout",
     "output_type": "stream",
     "text": [
      "(3, 2)\n"
     ]
    },
    {
     "data": {
      "text/html": [
       "<div>\n",
       "<style scoped>\n",
       "    .dataframe tbody tr th:only-of-type {\n",
       "        vertical-align: middle;\n",
       "    }\n",
       "\n",
       "    .dataframe tbody tr th {\n",
       "        vertical-align: top;\n",
       "    }\n",
       "\n",
       "    .dataframe thead th {\n",
       "        text-align: right;\n",
       "    }\n",
       "</style>\n",
       "<table border=\"1\" class=\"dataframe\">\n",
       "  <thead>\n",
       "    <tr style=\"text-align: right;\">\n",
       "      <th></th>\n",
       "      <th>currency_rk</th>\n",
       "      <th>Name</th>\n",
       "    </tr>\n",
       "  </thead>\n",
       "  <tbody>\n",
       "    <tr>\n",
       "      <th>0</th>\n",
       "      <td>48</td>\n",
       "      <td>RUR</td>\n",
       "    </tr>\n",
       "    <tr>\n",
       "      <th>1</th>\n",
       "      <td>50</td>\n",
       "      <td>USD</td>\n",
       "    </tr>\n",
       "    <tr>\n",
       "      <th>2</th>\n",
       "      <td>60</td>\n",
       "      <td>EUR</td>\n",
       "    </tr>\n",
       "  </tbody>\n",
       "</table>\n",
       "</div>"
      ],
      "text/plain": [
       "   currency_rk Name\n",
       "0           48  RUR\n",
       "1           50  USD\n",
       "2           60  EUR"
      ]
     },
     "execution_count": 106,
     "metadata": {},
     "output_type": "execute_result"
    }
   ],
   "source": [
    "currency = pd.read_csv('Data/currency_rk.csv')\n",
    "print(currency.shape)\n",
    "currency"
   ]
  },
  {
   "cell_type": "markdown",
   "id": "4a59b7a3",
   "metadata": {},
   "source": [
    "#### **Sample puzzle submission, puzzle and train files**"
   ]
  },
  {
   "cell_type": "code",
   "execution_count": 115,
   "id": "ee41b372",
   "metadata": {},
   "outputs": [
    {
     "name": "stdout",
     "output_type": "stream",
     "text": [
      "(4952, 2)\n"
     ]
    },
    {
     "data": {
      "text/html": [
       "<div>\n",
       "<style scoped>\n",
       "    .dataframe tbody tr th:only-of-type {\n",
       "        vertical-align: middle;\n",
       "    }\n",
       "\n",
       "    .dataframe tbody tr th {\n",
       "        vertical-align: top;\n",
       "    }\n",
       "\n",
       "    .dataframe thead th {\n",
       "        text-align: right;\n",
       "    }\n",
       "</style>\n",
       "<table border=\"1\" class=\"dataframe\">\n",
       "  <thead>\n",
       "    <tr style=\"text-align: right;\">\n",
       "      <th></th>\n",
       "      <th>bank</th>\n",
       "      <th>rtk_list</th>\n",
       "    </tr>\n",
       "  </thead>\n",
       "  <tbody>\n",
       "    <tr>\n",
       "      <th>0</th>\n",
       "      <td>6dd66e8624da427da6b558903a5772b8</td>\n",
       "      <td>[0, 0, 0, 0, 0, 0, 0, 0, 0, 0, 0, 0, 0, 0, 0, 0, 0, 0, 0, 0, 0, 0, 0, 0, 0, 0, 0, 0, 0, 0]</td>\n",
       "    </tr>\n",
       "    <tr>\n",
       "      <th>1</th>\n",
       "      <td>224a2325b44a4326bc539e3f1a6e713b</td>\n",
       "      <td>[0, 0, 0, 0, 0, 0, 0, 0, 0, 0, 0, 0, 0, 0, 0, 0, 0, 0, 0, 0, 0, 0, 0, 0, 0, 0, 0, 0, 0, 0]</td>\n",
       "    </tr>\n",
       "  </tbody>\n",
       "</table>\n",
       "</div>"
      ],
      "text/plain": [
       "                               bank                                                                                    rtk_list\n",
       "0  6dd66e8624da427da6b558903a5772b8  [0, 0, 0, 0, 0, 0, 0, 0, 0, 0, 0, 0, 0, 0, 0, 0, 0, 0, 0, 0, 0, 0, 0, 0, 0, 0, 0, 0, 0, 0]\n",
       "1  224a2325b44a4326bc539e3f1a6e713b  [0, 0, 0, 0, 0, 0, 0, 0, 0, 0, 0, 0, 0, 0, 0, 0, 0, 0, 0, 0, 0, 0, 0, 0, 0, 0, 0, 0, 0, 0]"
      ]
     },
     "execution_count": 115,
     "metadata": {},
     "output_type": "execute_result"
    }
   ],
   "source": [
    "# Read sample_submission\n",
    "pd.set_option('max_colwidth', 120)\n",
    "sub = pd.read_csv('Data/sample_submission.csv')\n",
    "print(sub.shape)\n",
    "sub.head(2)"
   ]
  },
  {
   "cell_type": "code",
   "execution_count": 117,
   "id": "6b62f9be",
   "metadata": {},
   "outputs": [
    {
     "name": "stdout",
     "output_type": "stream",
     "text": [
      "(4952, 2)\n"
     ]
    },
    {
     "data": {
      "text/html": [
       "<div>\n",
       "<style scoped>\n",
       "    .dataframe tbody tr th:only-of-type {\n",
       "        vertical-align: middle;\n",
       "    }\n",
       "\n",
       "    .dataframe tbody tr th {\n",
       "        vertical-align: top;\n",
       "    }\n",
       "\n",
       "    .dataframe thead th {\n",
       "        text-align: right;\n",
       "    }\n",
       "</style>\n",
       "<table border=\"1\" class=\"dataframe\">\n",
       "  <thead>\n",
       "    <tr style=\"text-align: right;\">\n",
       "      <th></th>\n",
       "      <th>bank</th>\n",
       "      <th>rtk</th>\n",
       "    </tr>\n",
       "  </thead>\n",
       "  <tbody>\n",
       "    <tr>\n",
       "      <th>0</th>\n",
       "      <td>6dd66e8624da427da6b558903a5772b8</td>\n",
       "      <td>56f386b1a1a9455b9118cd290b0627d7</td>\n",
       "    </tr>\n",
       "    <tr>\n",
       "      <th>1</th>\n",
       "      <td>224a2325b44a4326bc539e3f1a6e713b</td>\n",
       "      <td>ca77a88196ef4dd786fb390340cf226e</td>\n",
       "    </tr>\n",
       "  </tbody>\n",
       "</table>\n",
       "</div>"
      ],
      "text/plain": [
       "                               bank                               rtk\n",
       "0  6dd66e8624da427da6b558903a5772b8  56f386b1a1a9455b9118cd290b0627d7\n",
       "1  224a2325b44a4326bc539e3f1a6e713b  ca77a88196ef4dd786fb390340cf226e"
      ]
     },
     "execution_count": 117,
     "metadata": {},
     "output_type": "execute_result"
    }
   ],
   "source": [
    "# Read puzzle\n",
    "puzzle = pd.read_csv('Data/puzzle.csv')\n",
    "print(puzzle.shape)\n",
    "puzzle.head(2)"
   ]
  },
  {
   "cell_type": "code",
   "execution_count": 118,
   "id": "e602a345",
   "metadata": {},
   "outputs": [],
   "source": [
    "# Label enconding\n",
    "puzzle['bank'] = all_dicts['bank_le'].transform(puzzle['bank'])+1\n",
    "puzzle['rtk'] = all_dicts['rtk_le'].transform(puzzle['rtk'])+1"
   ]
  },
  {
   "cell_type": "code",
   "execution_count": 120,
   "id": "8a48a3e4",
   "metadata": {},
   "outputs": [
    {
     "name": "stdout",
     "output_type": "stream",
     "text": [
      "(17581, 2)\n"
     ]
    },
    {
     "data": {
      "text/html": [
       "<div>\n",
       "<style scoped>\n",
       "    .dataframe tbody tr th:only-of-type {\n",
       "        vertical-align: middle;\n",
       "    }\n",
       "\n",
       "    .dataframe tbody tr th {\n",
       "        vertical-align: top;\n",
       "    }\n",
       "\n",
       "    .dataframe thead th {\n",
       "        text-align: right;\n",
       "    }\n",
       "</style>\n",
       "<table border=\"1\" class=\"dataframe\">\n",
       "  <thead>\n",
       "    <tr style=\"text-align: right;\">\n",
       "      <th></th>\n",
       "      <th>bank</th>\n",
       "      <th>rtk</th>\n",
       "    </tr>\n",
       "  </thead>\n",
       "  <tbody>\n",
       "    <tr>\n",
       "      <th>0</th>\n",
       "      <td>178b387813ac4a63a2200274a9e3876e</td>\n",
       "      <td>e19c0f141e9442c5bdb0d5751f6fba1c</td>\n",
       "    </tr>\n",
       "    <tr>\n",
       "      <th>1</th>\n",
       "      <td>47cffa46e6b04389ba91a70735d2c3ff</td>\n",
       "      <td>7df3371aabd349e4ac2de8299238627d</td>\n",
       "    </tr>\n",
       "  </tbody>\n",
       "</table>\n",
       "</div>"
      ],
      "text/plain": [
       "                               bank                               rtk\n",
       "0  178b387813ac4a63a2200274a9e3876e  e19c0f141e9442c5bdb0d5751f6fba1c\n",
       "1  47cffa46e6b04389ba91a70735d2c3ff  7df3371aabd349e4ac2de8299238627d"
      ]
     },
     "execution_count": 120,
     "metadata": {},
     "output_type": "execute_result"
    }
   ],
   "source": [
    "train = pd.read_csv('Data/train_matching.csv')\n",
    "print(train.shape)\n",
    "train.head(2)"
   ]
  },
  {
   "cell_type": "code",
   "execution_count": 122,
   "metadata": {},
   "outputs": [],
   "source": [
    "train['bank'] = all_dicts['bank_le'].transform(train['bank'])+1\n",
    "train.loc[train.rtk=='0', 'rtk'] = 0\n",
    "train.loc[train.rtk!=0, 'rtk'] = all_dicts['rtk_le'].transform(train.loc[train.rtk!=0, 'rtk'])+1"
   ]
  },
  {
   "cell_type": "code",
   "execution_count": 125,
   "id": "e0eb2f6e",
   "metadata": {},
   "outputs": [
    {
     "name": "stdout",
     "output_type": "stream",
     "text": [
      "There are  17581 bank clients in the train file, of which 14672 have matches with RTK clients.\n"
     ]
    }
   ],
   "source": [
    "print('There are ', train.bank.nunique(), 'bank clients in the ''train'' file, of which', train.rtk.nunique(), 'have matches with RTK clients.')"
   ]
  },
  {
   "cell_type": "code",
   "execution_count": null,
   "id": "59bbbeb2",
   "metadata": {},
   "outputs": [],
   "source": []
  },
  {
   "cell_type": "code",
   "execution_count": null,
   "metadata": {},
   "outputs": [],
   "source": []
  },
  {
   "cell_type": "code",
   "execution_count": 23,
   "id": "3338d728",
   "metadata": {},
   "outputs": [],
   "source": [
    "# read additional data\n",
    "train_matching = pd.read_csv('Data/train_matching.csv')\n",
    "puzzle = pd.read_csv('Data/puzzle.csv')"
   ]
  },
  {
   "cell_type": "code",
   "execution_count": 24,
   "id": "cb928c20",
   "metadata": {},
   "outputs": [
    {
     "data": {
      "text/html": [
       "<div>\n",
       "<style scoped>\n",
       "    .dataframe tbody tr th:only-of-type {\n",
       "        vertical-align: middle;\n",
       "    }\n",
       "\n",
       "    .dataframe tbody tr th {\n",
       "        vertical-align: top;\n",
       "    }\n",
       "\n",
       "    .dataframe thead th {\n",
       "        text-align: right;\n",
       "    }\n",
       "</style>\n",
       "<table border=\"1\" class=\"dataframe\">\n",
       "  <thead>\n",
       "    <tr style=\"text-align: right;\">\n",
       "      <th></th>\n",
       "      <th>bank</th>\n",
       "      <th>rtk</th>\n",
       "    </tr>\n",
       "  </thead>\n",
       "  <tbody>\n",
       "    <tr>\n",
       "      <th>0</th>\n",
       "      <td>178b387813ac4a63a2200274a9e3876e</td>\n",
       "      <td>e19c0f141e9442c5bdb0d5751f6fba1c</td>\n",
       "    </tr>\n",
       "    <tr>\n",
       "      <th>1</th>\n",
       "      <td>47cffa46e6b04389ba91a70735d2c3ff</td>\n",
       "      <td>7df3371aabd349e4ac2de8299238627d</td>\n",
       "    </tr>\n",
       "    <tr>\n",
       "      <th>2</th>\n",
       "      <td>f73b767cfd72472aa06df9a69e746aaf</td>\n",
       "      <td>b23d62c7e41145a7ad140a4fcfaafefa</td>\n",
       "    </tr>\n",
       "  </tbody>\n",
       "</table>\n",
       "</div>"
      ],
      "text/plain": [
       "                               bank                               rtk\n",
       "0  178b387813ac4a63a2200274a9e3876e  e19c0f141e9442c5bdb0d5751f6fba1c\n",
       "1  47cffa46e6b04389ba91a70735d2c3ff  7df3371aabd349e4ac2de8299238627d\n",
       "2  f73b767cfd72472aa06df9a69e746aaf  b23d62c7e41145a7ad140a4fcfaafefa"
      ]
     },
     "execution_count": 24,
     "metadata": {},
     "output_type": "execute_result"
    }
   ],
   "source": [
    "# view train_matching\n",
    "train_matching.head(3)"
   ]
  },
  {
   "cell_type": "code",
   "execution_count": 25,
   "id": "34d7e193",
   "metadata": {},
   "outputs": [
    {
     "data": {
      "text/html": [
       "<div>\n",
       "<style scoped>\n",
       "    .dataframe tbody tr th:only-of-type {\n",
       "        vertical-align: middle;\n",
       "    }\n",
       "\n",
       "    .dataframe tbody tr th {\n",
       "        vertical-align: top;\n",
       "    }\n",
       "\n",
       "    .dataframe thead th {\n",
       "        text-align: right;\n",
       "    }\n",
       "</style>\n",
       "<table border=\"1\" class=\"dataframe\">\n",
       "  <thead>\n",
       "    <tr style=\"text-align: right;\">\n",
       "      <th></th>\n",
       "      <th>bank</th>\n",
       "      <th>rtk</th>\n",
       "    </tr>\n",
       "  </thead>\n",
       "  <tbody>\n",
       "    <tr>\n",
       "      <th>0</th>\n",
       "      <td>6dd66e8624da427da6b558903a5772b8</td>\n",
       "      <td>56f386b1a1a9455b9118cd290b0627d7</td>\n",
       "    </tr>\n",
       "    <tr>\n",
       "      <th>1</th>\n",
       "      <td>224a2325b44a4326bc539e3f1a6e713b</td>\n",
       "      <td>ca77a88196ef4dd786fb390340cf226e</td>\n",
       "    </tr>\n",
       "    <tr>\n",
       "      <th>2</th>\n",
       "      <td>ed547c635e594b88a9eb5b5f7ae75304</td>\n",
       "      <td>0ca257d60e0a47c085117c80dff13cb5</td>\n",
       "    </tr>\n",
       "  </tbody>\n",
       "</table>\n",
       "</div>"
      ],
      "text/plain": [
       "                               bank                               rtk\n",
       "0  6dd66e8624da427da6b558903a5772b8  56f386b1a1a9455b9118cd290b0627d7\n",
       "1  224a2325b44a4326bc539e3f1a6e713b  ca77a88196ef4dd786fb390340cf226e\n",
       "2  ed547c635e594b88a9eb5b5f7ae75304  0ca257d60e0a47c085117c80dff13cb5"
      ]
     },
     "execution_count": 25,
     "metadata": {},
     "output_type": "execute_result"
    }
   ],
   "source": [
    "# view puzzle\n",
    "puzzle.head(3)"
   ]
  },
  {
   "cell_type": "markdown",
   "id": "2e328aa7",
   "metadata": {},
   "source": [
    "##### **data reduction by encoding**"
   ]
  },
  {
   "cell_type": "code",
   "execution_count": 26,
   "id": "8166fb38",
   "metadata": {},
   "outputs": [],
   "source": [
    "all_dicts = {}\n",
    "all_dicts['bank_le'] = LabelEncoder().fit(transactions['user_id'])\n",
    "all_dicts['rtk_le'] = LabelEncoder().fit(clickstream['user_id'])"
   ]
  },
  {
   "cell_type": "code",
   "execution_count": 29,
   "id": "0aab1292",
   "metadata": {},
   "outputs": [],
   "source": [
    "clickstream['user_id'] = all_dicts['rtk_le'].transform(clickstream['user_id'])+1\n",
    "clickstream_dtypes = {'user_id':np.int16, 'cat_id':np.int16, 'new_uid':np.int32}\n",
    "clickstream = clickstream.astype(clickstream_dtypes)"
   ]
  },
  {
   "cell_type": "code",
   "execution_count": 30,
   "id": "f90eccec",
   "metadata": {},
   "outputs": [],
   "source": [
    "transactions['user_id'] = all_dicts['bank_le'].transform(transactions['user_id'])+1\n",
    "transactions_dtypes = {'user_id':np.int16, 'mcc_code':np.int16, 'currency_rk':np.int8}\n",
    "transactions = transactions.astype(transactions_dtypes)\n"
   ]
  },
  {
   "cell_type": "code",
   "execution_count": 32,
   "id": "b23da587",
   "metadata": {},
   "outputs": [],
   "source": [
    "train_matching['bank'] = all_dicts['bank_le'].transform(train_matching['bank'])+1\n",
    "train_matching.loc[train_matching.rtk == '0', 'rtk'] = 0\n",
    "train_matching.loc[train_matching.rtk != 0, 'rtk'] = all_dicts['rtk_le'].transform(train_matching.loc[train_matching.rtk!=0, 'rtk'])+1"
   ]
  },
  {
   "cell_type": "code",
   "execution_count": 33,
   "id": "757058f3",
   "metadata": {},
   "outputs": [],
   "source": [
    "puzzle['bank'] = all_dicts['bank_le'].transform(puzzle['bank'])+1\n",
    "puzzle['rtk'] = all_dicts['rtk_le'].transform(puzzle['rtk'])+1"
   ]
  },
  {
   "cell_type": "markdown",
   "id": "7f1bd7d8",
   "metadata": {},
   "source": [
    "##### **vectorize features** "
   ]
  },
  {
   "cell_type": "code",
   "execution_count": 36,
   "id": "93f230b0",
   "metadata": {},
   "outputs": [],
   "source": [
    "bankclient_embed = transactions.pivot_table(index = 'user_id', \n",
    "                         values=['transaction_amt'],\n",
    "                         columns=['mcc_code'],\n",
    "                         aggfunc=['sum','mean', 'count']).fillna(0)\n",
    "bankclient_embed.columns = [f'{str(i[0])}-{str(i[2])}' for i in bankclient_embed.columns]"
   ]
  },
  {
   "cell_type": "code",
   "execution_count": 38,
   "id": "4597b339",
   "metadata": {},
   "outputs": [],
   "source": [
    "bankclient_embed.to_csv('Data/bankclient_embed.csv')"
   ]
  },
  {
   "cell_type": "code",
   "execution_count": 39,
   "id": "66560c90",
   "metadata": {},
   "outputs": [],
   "source": [
    "clickstream_embed = clickstream.pivot_table(index = 'user_id', \n",
    "                            values=['timestamp'],\n",
    "                            columns=['cat_id'],\n",
    "                            aggfunc=['count']).fillna(0)\n",
    "clickstream_embed.columns = [f'rtk_{str(i[0])}-{str(i[2])}' for i in clickstream_embed.columns]\n",
    "clickstream_embed.loc[0] = np.empty(len(clickstream_embed.columns))"
   ]
  },
  {
   "cell_type": "code",
   "execution_count": 15,
   "id": "66294c77",
   "metadata": {},
   "outputs": [],
   "source": [
    "clickstream_embed.to_csv('Data/clickstream_embed.csv')"
   ]
  },
  {
   "cell_type": "code",
   "execution_count": 23,
   "id": "02c45bb5",
   "metadata": {},
   "outputs": [],
   "source": [
    "clickstream_embed = pd.read_csv('Data/clickstream_embed.csv')"
   ]
  },
  {
   "cell_type": "code",
   "execution_count": 16,
   "id": "cb2c45fe",
   "metadata": {},
   "outputs": [
    {
     "name": "stdout",
     "output_type": "stream",
     "text": [
      "(22533, 1158) (19624, 402)\n",
      "1560\n"
     ]
    }
   ],
   "source": [
    "print(bankclient_embed.shape, clickstream_embed.shape)\n",
    "full_list_of_features = clickstream_embed.columns.tolist() + bankclient_embed.columns.tolist()\n",
    "print(len(full_list_of_features))"
   ]
  },
  {
   "cell_type": "code",
   "execution_count": 17,
   "id": "56bb7de6",
   "metadata": {},
   "outputs": [
    {
     "name": "stdout",
     "output_type": "stream",
     "text": [
      "(22533, 1158) (19624, 402)\n",
      "1560\n"
     ]
    }
   ],
   "source": [
    "print(bankclient_embed.shape, clickstream_embed.shape)\n",
    "full_list_of_features = clickstream_embed.columns.tolist() + bankclient_embed.columns.tolist()\n",
    "print(len(full_list_of_features))"
   ]
  },
  {
   "cell_type": "code",
   "execution_count": 18,
   "id": "54332a0b",
   "metadata": {},
   "outputs": [],
   "source": [
    "with open(\"Data/full_list_of_features_baseline_puzle\", \"wb\") as fp:   # Pickling\n",
    "     pickle.dump(full_list_of_features, fp)"
   ]
  },
  {
   "cell_type": "code",
   "execution_count": 19,
   "id": "d28c7919",
   "metadata": {},
   "outputs": [],
   "source": [
    "bankclient_embed.fillna(0, inplace=True)\n",
    "clickstream_embed.fillna(0, inplace=True)"
   ]
  },
  {
   "cell_type": "code",
   "execution_count": null,
   "id": "7f69c933",
   "metadata": {},
   "outputs": [],
   "source": []
  },
  {
   "cell_type": "markdown",
   "id": "a61e9c4a",
   "metadata": {},
   "source": [
    "#### Transactions"
   ]
  },
  {
   "cell_type": "code",
   "execution_count": null,
   "id": "361af041",
   "metadata": {},
   "outputs": [
    {
     "name": "stdout",
     "output_type": "stream",
     "text": [
      "(126752515, 4)\n"
     ]
    },
    {
     "data": {
      "text/html": [
       "<div>\n",
       "<style scoped>\n",
       "    .dataframe tbody tr th:only-of-type {\n",
       "        vertical-align: middle;\n",
       "    }\n",
       "\n",
       "    .dataframe tbody tr th {\n",
       "        vertical-align: top;\n",
       "    }\n",
       "\n",
       "    .dataframe thead th {\n",
       "        text-align: right;\n",
       "    }\n",
       "</style>\n",
       "<table border=\"1\" class=\"dataframe\">\n",
       "  <thead>\n",
       "    <tr style=\"text-align: right;\">\n",
       "      <th></th>\n",
       "      <th>user_id</th>\n",
       "      <th>cat_id</th>\n",
       "      <th>timestamp</th>\n",
       "      <th>new_uid</th>\n",
       "    </tr>\n",
       "  </thead>\n",
       "  <tbody>\n",
       "    <tr>\n",
       "      <th>0</th>\n",
       "      <td>000143baebad4467a23b98c918ccda19</td>\n",
       "      <td>165</td>\n",
       "      <td>2021-01-30 20:08:12</td>\n",
       "      <td>1873448</td>\n",
       "    </tr>\n",
       "    <tr>\n",
       "      <th>1</th>\n",
       "      <td>000143baebad4467a23b98c918ccda19</td>\n",
       "      <td>165</td>\n",
       "      <td>2021-01-31 20:06:29</td>\n",
       "      <td>1873448</td>\n",
       "    </tr>\n",
       "  </tbody>\n",
       "</table>\n",
       "</div>"
      ],
      "text/plain": [
       "                            user_id  cat_id           timestamp  new_uid\n",
       "0  000143baebad4467a23b98c918ccda19     165 2021-01-30 20:08:12  1873448\n",
       "1  000143baebad4467a23b98c918ccda19     165 2021-01-31 20:06:29  1873448"
      ]
     },
     "metadata": {},
     "output_type": "display_data"
    }
   ],
   "source": [
    "print(clickstream.shape)\n",
    "clickstream.head(2)"
   ]
  },
  {
   "cell_type": "code",
   "execution_count": null,
   "id": "62c1b5fe",
   "metadata": {},
   "outputs": [
    {
     "name": "stdout",
     "output_type": "stream",
     "text": [
      "user_id \t 19623 \t 000143baebad4467a23b98c918ccda19  -  ffff8348710b49c78ffa8c13b00b22f4\n",
      "cat_id \t 402 \t 1  -  1861\n",
      "timestamp \t 5840311 \t 2021-01-17 18:42:39  -  2021-08-14 22:41:59\n",
      "new_uid \t 81285 \t 21  -  1873964\n"
     ]
    }
   ],
   "source": [
    "for col in clickstream:\n",
    "    print(col, '\\t', clickstream[col].nunique(), '\\t', clickstream[col].min(), ' - ', clickstream[col].max())"
   ]
  },
  {
   "cell_type": "markdown",
   "id": "e2cb3dce",
   "metadata": {},
   "source": [
    "*В файле clickstream.csv 126.7 млн строк, 19623 уникальных клиентов, 402 уникальные категории и 81285 уникальных устройств. Время - с середины января по середину августа 2021 года*"
   ]
  },
  {
   "cell_type": "code",
   "execution_count": null,
   "id": "784d1e8c",
   "metadata": {},
   "outputs": [],
   "source": [
    "# data reduction by encoding\n",
    "all_dicts['rtk_le'] = LabelEncoder().fit(clickstream['user_id'])\n",
    "clickstream['user_id'] = all_dicts['rtk_le'].transform(clickstream['user_id'])+1\n",
    "clickstream_dtypes = {'user_id':np.int16, 'cat_id':np.int16, 'new_uid':np.int32}\n",
    "clickstream = clickstream.astype(clickstream_dtypes)"
   ]
  },
  {
   "cell_type": "code",
   "execution_count": null,
   "id": "13033f09",
   "metadata": {},
   "outputs": [
    {
     "name": "stdout",
     "output_type": "stream",
     "text": [
      "На каждого пользователя РТК приходится  6459.4 уникальных записей\n",
      "На каждого пользователя РТК приходится  4.1  уникальных устройств\n"
     ]
    }
   ],
   "source": [
    "print('На каждого пользователя РТК приходится ', round(clickstream.shape[0] / clickstream['user_id'].nunique(),1), 'уникальных записей')\n",
    "print('На каждого пользователя РТК приходится ', round(clickstream['new_uid'].nunique() / clickstream['user_id'].nunique(),1), ' уникальных устройств')"
   ]
  },
  {
   "cell_type": "code",
   "execution_count": null,
   "id": "e615e446",
   "metadata": {},
   "outputs": [
    {
     "data": {
      "image/png": "[encoded data removed]",
      "text/plain": [
       "<Figure size 1152x288 with 2 Axes>"
      ]
     },
     "metadata": {},
     "output_type": "display_data"
    }
   ],
   "source": [
    "# Посмотрим на распределение времени начала и конца активности клиентов\n",
    "fig, axes = plt.subplots(1,2, figsize = (16,4))\n",
    "sns.histplot(clickstream.groupby('user_id')['timestamp'].min(), bins= 50, ax = axes[0], kde = True, alpha = 0.25, palette = palette)\n",
    "sns.histplot(clickstream.groupby('user_id')['timestamp'].max(), bins= 50, ax = axes[1], kde = True, alpha = 0.25, palette = palette);"
   ]
  },
  {
   "cell_type": "code",
   "execution_count": null,
   "id": "daee4e3a",
   "metadata": {},
   "outputs": [
    {
     "data": {
      "image/png": "[encoded data removed]",
      "text/plain": [
       "<Figure size 1152x288 with 2 Axes>"
      ]
     },
     "metadata": {},
     "output_type": "display_data"
    }
   ],
   "source": [
    "# Посмотрим на распределение количества уникальных категорий и устройств у каждого клиента\n",
    "fig, axes = plt.subplots(1,2, figsize = (16,4))\n",
    "sns.histplot(clickstream.groupby('user_id')['cat_id'].agg(pd.Series.nunique), palette=palette, kde = True, alpha = 0.25, bins = 75, ax = axes[0])\n",
    "t = clickstream.groupby('user_id')['new_uid'].agg(pd.Series.nunique)\n",
    "sns.histplot(t[t<21],bins=20,palette=palette, kde = True, alpha = 0.25, ax = axes[1]);"
   ]
  },
  {
   "cell_type": "code",
   "execution_count": null,
   "id": "423d88b7",
   "metadata": {},
   "outputs": [
    {
     "name": "stdout",
     "output_type": "stream",
     "text": [
      "Clickstream by cat_id info:\n",
      " count    19623.000000\n",
      "mean        43.679254\n",
      "std         17.641016\n",
      "min          1.000000\n",
      "25%         32.000000\n",
      "50%         45.000000\n",
      "75%         56.000000\n",
      "max        184.000000\n",
      "Name: cat_id, dtype: float64 \n",
      "\n",
      "Clickstream by new_uid info:\n",
      " count    19623.000000\n",
      "mean         4.142333\n",
      "std          5.156828\n",
      "min          1.000000\n",
      "25%          2.000000\n",
      "50%          3.000000\n",
      "75%          5.000000\n",
      "max        419.000000\n",
      "Name: new_uid, dtype: float64\n"
     ]
    }
   ],
   "source": [
    "print('Clickstream by cat_id info:\\n', clickstream.groupby('user_id')['cat_id'].agg(pd.Series.nunique).describe(), '\\n')\n",
    "print('Clickstream by new_uid info:\\n', clickstream.groupby('user_id')['new_uid'].agg(pd.Series.nunique).describe())"
   ]
  },
  {
   "cell_type": "markdown",
   "id": "9782fbc0",
   "metadata": {},
   "source": [
    "### **Training**"
   ]
  },
  {
   "cell_type": "code",
   "execution_count": 20,
   "id": "ce9536bb",
   "metadata": {},
   "outputs": [
    {
     "name": "stdout",
     "output_type": "stream",
     "text": [
      "17581 2930\n"
     ]
    }
   ],
   "source": [
    "# Перемешаем уникальных user_id клиентов банка \n",
    "bank_ids_shuffled = train_matching['bank'].sample(n=train_matching.shape[0], replace=False, random_state=36)\n",
    "# Отделим одну шестую для валидации (примерно соответствует размеру public/private в первой задаче)\n",
    "s = len(bank_ids_shuffled)//6\n",
    "print(len(bank_ids_shuffled), s)"
   ]
  },
  {
   "cell_type": "code",
   "execution_count": 21,
   "id": "c2b74b01",
   "metadata": {},
   "outputs": [],
   "source": [
    "# Соберём обучающую выборку, где на 1 правильный мэтч будет приходиться 10 неправильных\n",
    "\n",
    "k=10\n",
    "cor_dict = train_matching.set_index('bank')['rtk'].to_dict()\n",
    "\n",
    "train_bank_ids = train_matching[(train_matching.bank.isin(bank_ids_shuffled[:-s]))&(train_matching.rtk!=0)]['bank']\n",
    "train_rtk_ids = train_matching[train_matching.bank.isin(train_bank_ids)]['rtk'].drop_duplicates()\n",
    "df_train = pd.DataFrame(train_bank_ids, columns=['bank'])\n",
    "df_train['rtk'] = df_train['bank'].apply(lambda x: [cor_dict[x]] + train_rtk_ids.sample(k, random_state=13).values.tolist() )\n",
    "\n",
    "valid_bank_ids = train_matching[(train_matching.bank.isin(bank_ids_shuffled[-s:]))&(train_matching.rtk!=0)]['bank']\n",
    "valid_rtk_ids = train_matching[train_matching.bank.isin(valid_bank_ids)]['rtk'].drop_duplicates()\n",
    "df_valid = pd.DataFrame(valid_bank_ids, columns=['bank'])\n",
    "df_valid['rtk'] = df_valid['bank'].apply(lambda x: valid_rtk_ids.values.tolist())\n",
    "\n",
    "df_train = df_train.explode('rtk')\n",
    "df_valid = df_valid.explode('rtk')\n",
    "\n",
    "train_matching['bank+rtk'] = train_matching['bank'].astype('str')+'_'+train_matching['rtk'].astype('str')\n",
    "df_train['bank+rtk'] = df_train['bank'].astype('str')+'_'+df_train['rtk'].astype('str')\n",
    "df_valid['bank+rtk'] = df_valid['bank'].astype('str')+'_'+df_valid['rtk'].astype('str')\n",
    "df_train['target'] = df_train['bank+rtk'].isin(train_matching['bank+rtk']).astype('int')\n",
    "df_valid['target'] = df_valid['bank+rtk'].isin(train_matching['bank+rtk']).astype('int')\n",
    "\n",
    "df_train.drop_duplicates('bank+rtk', inplace=True)\n",
    "df_valid.drop_duplicates('bank+rtk', inplace=True)\n",
    "\n",
    "df_train.reset_index(inplace=True, drop=True)\n",
    "df_valid.reset_index(inplace=True, drop=True)"
   ]
  },
  {
   "cell_type": "code",
   "execution_count": 22,
   "id": "7036786f",
   "metadata": {},
   "outputs": [
    {
     "name": "stdout",
     "output_type": "stream",
     "text": [
      "(134278, 4) (6066369, 4) 0.0909158611239369 0.0004060089321965083\n",
      "12208 12208 134278\n",
      "2463 2463 6066369\n"
     ]
    }
   ],
   "source": [
    "print(df_train.shape, df_valid.shape, df_train['target'].mean(), df_valid['target'].mean())\n",
    "print(df_train.bank.nunique(), df_train.rtk.nunique(), df_train['bank+rtk'].nunique())\n",
    "print(df_valid.bank.nunique(), df_valid.rtk.nunique(), df_valid['bank+rtk'].nunique())"
   ]
  },
  {
   "cell_type": "code",
   "execution_count": 23,
   "id": "4e4f1a75",
   "metadata": {},
   "outputs": [],
   "source": [
    "params = {'nan_mode': 'Min', 'eval_metric': 'MRR', 'iterations': 2000,\n",
    "'sampling_frequency': 'PerTree', 'leaf_estimation_method': 'Newton', 'od_pval': 0,\n",
    "'grow_policy': 'SymmetricTree', 'penalties_coefficient': 1, 'boosting_type': 'Plain',\n",
    "'model_shrink_mode': 'Constant', 'feature_border_type': 'GreedyLogSum',\n",
    "'bayesian_matrix_reg': 0.1000000015, 'l2_leaf_reg': 3, 'random_strength': 1,\n",
    "'od_type': 'Iter', 'rsm': 1, 'boost_from_average': False, 'model_size_reg': 0.5,\n",
    "'pool_metainfo_options': {'tags': {}}, 'subsample': 0.8000000119, 'use_best_model': True,\n",
    "'od_wait': 100, 'random_seed': 0, 'depth': 4, 'posterior_sampling': False,\n",
    "'border_count': 254, 'classes_count': 0, 'auto_class_weights': 'None',\n",
    "'sparse_features_conflict_fraction': 0, 'leaf_estimation_backtracking': 'AnyImprovement',\n",
    "'best_model_min_trees': 1, 'model_shrink_rate': 0, 'min_data_in_leaf': 1,\n",
    "'loss_function': 'CrossEntropy', 'learning_rate': 0.02999999933,\n",
    "'score_function': 'Cosine', 'task_type': 'CPU', 'leaf_estimation_iterations': 10,\n",
    "'bootstrap_type': 'MVS', 'max_leaves': 16}"
   ]
  },
  {
   "cell_type": "code",
   "execution_count": 24,
   "id": "4f5f73f9",
   "metadata": {},
   "outputs": [
    {
     "name": "stdout",
     "output_type": "stream",
     "text": [
      "(134278, 1560)\n",
      "0:\tlearn: 0.6454777\ttotal: 324ms\tremaining: 10m 46s\n",
      "10:\tlearn: 0.3446893\ttotal: 1.57s\tremaining: 4m 44s\n",
      "20:\tlearn: 0.2063303\ttotal: 2.81s\tremaining: 4m 25s\n",
      "30:\tlearn: 0.1216187\ttotal: 4.24s\tremaining: 4m 29s\n",
      "40:\tlearn: 0.0758575\ttotal: 5.97s\tremaining: 4m 45s\n",
      "50:\tlearn: 0.0488862\ttotal: 7.65s\tremaining: 4m 52s\n",
      "60:\tlearn: 0.0335325\ttotal: 9.42s\tremaining: 4m 59s\n",
      "70:\tlearn: 0.0218348\ttotal: 11.5s\tremaining: 5m 11s\n",
      "80:\tlearn: 0.0155552\ttotal: 13.5s\tremaining: 5m 20s\n",
      "90:\tlearn: 0.0110443\ttotal: 15.6s\tremaining: 5m 26s\n",
      "100:\tlearn: 0.0084411\ttotal: 17.5s\tremaining: 5m 29s\n",
      "110:\tlearn: 0.0063666\ttotal: 19.6s\tremaining: 5m 33s\n",
      "120:\tlearn: 0.0048705\ttotal: 21.7s\tremaining: 5m 36s\n",
      "130:\tlearn: 0.0038929\ttotal: 23.8s\tremaining: 5m 39s\n",
      "140:\tlearn: 0.0032567\ttotal: 25.9s\tremaining: 5m 41s\n",
      "150:\tlearn: 0.0028265\ttotal: 28s\tremaining: 5m 42s\n",
      "160:\tlearn: 0.0026030\ttotal: 29.9s\tremaining: 5m 41s\n",
      "170:\tlearn: 0.0024937\ttotal: 31.7s\tremaining: 5m 38s\n",
      "180:\tlearn: 0.0023580\ttotal: 33.4s\tremaining: 5m 35s\n",
      "190:\tlearn: 0.0022782\ttotal: 35.2s\tremaining: 5m 33s\n",
      "200:\tlearn: 0.0021795\ttotal: 36.9s\tremaining: 5m 30s\n",
      "210:\tlearn: 0.0021619\ttotal: 38.6s\tremaining: 5m 27s\n",
      "220:\tlearn: 0.0021102\ttotal: 40.2s\tremaining: 5m 23s\n",
      "230:\tlearn: 0.0020628\ttotal: 41.8s\tremaining: 5m 20s\n",
      "240:\tlearn: 0.0020203\ttotal: 43.5s\tremaining: 5m 17s\n",
      "250:\tlearn: 0.0019437\ttotal: 45.2s\tremaining: 5m 15s\n",
      "260:\tlearn: 0.0019160\ttotal: 46.9s\tremaining: 5m 12s\n",
      "270:\tlearn: 0.0018851\ttotal: 48.5s\tremaining: 5m 9s\n",
      "280:\tlearn: 0.0018828\ttotal: 50s\tremaining: 5m 6s\n",
      "290:\tlearn: 0.0018761\ttotal: 51.6s\tremaining: 5m 2s\n",
      "300:\tlearn: 0.0018737\ttotal: 53.2s\tremaining: 5m\n",
      "310:\tlearn: 0.0018532\ttotal: 54.8s\tremaining: 4m 57s\n",
      "320:\tlearn: 0.0018150\ttotal: 56.5s\tremaining: 4m 55s\n",
      "330:\tlearn: 0.0018114\ttotal: 58.1s\tremaining: 4m 52s\n",
      "340:\tlearn: 0.0018046\ttotal: 59.6s\tremaining: 4m 50s\n",
      "350:\tlearn: 0.0017776\ttotal: 1m 1s\tremaining: 4m 48s\n",
      "360:\tlearn: 0.0017728\ttotal: 1m 2s\tremaining: 4m 45s\n",
      "370:\tlearn: 0.0017675\ttotal: 1m 4s\tremaining: 4m 42s\n",
      "380:\tlearn: 0.0017642\ttotal: 1m 5s\tremaining: 4m 40s\n",
      "390:\tlearn: 0.0017623\ttotal: 1m 7s\tremaining: 4m 37s\n",
      "400:\tlearn: 0.0017610\ttotal: 1m 9s\tremaining: 4m 35s\n",
      "410:\tlearn: 0.0017357\ttotal: 1m 10s\tremaining: 4m 32s\n",
      "420:\tlearn: 0.0017150\ttotal: 1m 12s\tremaining: 4m 30s\n",
      "430:\tlearn: 0.0017150\ttotal: 1m 13s\tremaining: 4m 28s\n",
      "440:\tlearn: 0.0017115\ttotal: 1m 15s\tremaining: 4m 26s\n",
      "450:\tlearn: 0.0017082\ttotal: 1m 17s\tremaining: 4m 24s\n",
      "460:\tlearn: 0.0017076\ttotal: 1m 18s\tremaining: 4m 22s\n",
      "470:\tlearn: 0.0016787\ttotal: 1m 20s\tremaining: 4m 20s\n",
      "480:\tlearn: 0.0016786\ttotal: 1m 21s\tremaining: 4m 18s\n",
      "490:\tlearn: 0.0016786\ttotal: 1m 23s\tremaining: 4m 15s\n",
      "500:\tlearn: 0.0016324\ttotal: 1m 24s\tremaining: 4m 14s\n",
      "510:\tlearn: 0.0016301\ttotal: 1m 26s\tremaining: 4m 12s\n",
      "520:\tlearn: 0.0015905\ttotal: 1m 28s\tremaining: 4m 10s\n",
      "530:\tlearn: 0.0015864\ttotal: 1m 29s\tremaining: 4m 8s\n",
      "540:\tlearn: 0.0015846\ttotal: 1m 31s\tremaining: 4m 6s\n",
      "550:\tlearn: 0.0015846\ttotal: 1m 33s\tremaining: 4m 4s\n",
      "560:\tlearn: 0.0015533\ttotal: 1m 34s\tremaining: 4m 3s\n",
      "570:\tlearn: 0.0015513\ttotal: 1m 36s\tremaining: 4m\n",
      "580:\tlearn: 0.0015512\ttotal: 1m 37s\tremaining: 3m 58s\n",
      "590:\tlearn: 0.0015512\ttotal: 1m 39s\tremaining: 3m 56s\n",
      "600:\tlearn: 0.0015512\ttotal: 1m 40s\tremaining: 3m 54s\n",
      "610:\tlearn: 0.0015354\ttotal: 1m 42s\tremaining: 3m 52s\n",
      "620:\tlearn: 0.0015338\ttotal: 1m 44s\tremaining: 3m 51s\n",
      "630:\tlearn: 0.0015322\ttotal: 1m 45s\tremaining: 3m 49s\n",
      "640:\tlearn: 0.0015307\ttotal: 1m 47s\tremaining: 3m 47s\n",
      "650:\tlearn: 0.0015307\ttotal: 1m 48s\tremaining: 3m 44s\n",
      "660:\tlearn: 0.0015306\ttotal: 1m 50s\tremaining: 3m 43s\n",
      "670:\tlearn: 0.0015290\ttotal: 1m 51s\tremaining: 3m 41s\n",
      "680:\tlearn: 0.0015272\ttotal: 1m 53s\tremaining: 3m 40s\n",
      "690:\tlearn: 0.0015256\ttotal: 1m 55s\tremaining: 3m 38s\n",
      "700:\tlearn: 0.0015256\ttotal: 1m 56s\tremaining: 3m 36s\n",
      "710:\tlearn: 0.0015256\ttotal: 1m 58s\tremaining: 3m 34s\n",
      "720:\tlearn: 0.0015256\ttotal: 2m\tremaining: 3m 33s\n",
      "730:\tlearn: 0.0015199\ttotal: 2m 1s\tremaining: 3m 31s\n",
      "740:\tlearn: 0.0015171\ttotal: 2m 3s\tremaining: 3m 29s\n",
      "750:\tlearn: 0.0015145\ttotal: 2m 4s\tremaining: 3m 27s\n",
      "760:\tlearn: 0.0015134\ttotal: 2m 6s\tremaining: 3m 25s\n",
      "770:\tlearn: 0.0014768\ttotal: 2m 7s\tremaining: 3m 23s\n",
      "780:\tlearn: 0.0014768\ttotal: 2m 8s\tremaining: 3m 21s\n",
      "790:\tlearn: 0.0014768\ttotal: 2m 10s\tremaining: 3m 19s\n",
      "800:\tlearn: 0.0014768\ttotal: 2m 11s\tremaining: 3m 17s\n",
      "810:\tlearn: 0.0014767\ttotal: 2m 13s\tremaining: 3m 15s\n",
      "820:\tlearn: 0.0014767\ttotal: 2m 14s\tremaining: 3m 13s\n",
      "830:\tlearn: 0.0014767\ttotal: 2m 16s\tremaining: 3m 11s\n",
      "840:\tlearn: 0.0014767\ttotal: 2m 17s\tremaining: 3m 9s\n",
      "850:\tlearn: 0.0014767\ttotal: 2m 18s\tremaining: 3m 7s\n",
      "860:\tlearn: 0.0014767\ttotal: 2m 20s\tremaining: 3m 5s\n",
      "870:\tlearn: 0.0014767\ttotal: 2m 21s\tremaining: 3m 3s\n",
      "880:\tlearn: 0.0014767\ttotal: 2m 23s\tremaining: 3m 1s\n",
      "890:\tlearn: 0.0014766\ttotal: 2m 24s\tremaining: 3m\n",
      "900:\tlearn: 0.0014766\ttotal: 2m 26s\tremaining: 2m 58s\n",
      "910:\tlearn: 0.0014766\ttotal: 2m 27s\tremaining: 2m 56s\n",
      "920:\tlearn: 0.0014766\ttotal: 2m 29s\tremaining: 2m 54s\n",
      "930:\tlearn: 0.0014766\ttotal: 2m 30s\tremaining: 2m 53s\n",
      "940:\tlearn: 0.0014766\ttotal: 2m 32s\tremaining: 2m 51s\n",
      "950:\tlearn: 0.0014766\ttotal: 2m 33s\tremaining: 2m 49s\n",
      "960:\tlearn: 0.0014738\ttotal: 2m 35s\tremaining: 2m 47s\n",
      "970:\tlearn: 0.0014738\ttotal: 2m 36s\tremaining: 2m 45s\n",
      "980:\tlearn: 0.0014738\ttotal: 2m 38s\tremaining: 2m 44s\n",
      "990:\tlearn: 0.0014738\ttotal: 2m 39s\tremaining: 2m 42s\n",
      "1000:\tlearn: 0.0014738\ttotal: 2m 40s\tremaining: 2m 40s\n",
      "1010:\tlearn: 0.0014738\ttotal: 2m 42s\tremaining: 2m 38s\n",
      "1020:\tlearn: 0.0014569\ttotal: 2m 43s\tremaining: 2m 37s\n",
      "1030:\tlearn: 0.0014569\ttotal: 2m 45s\tremaining: 2m 35s\n",
      "1040:\tlearn: 0.0014569\ttotal: 2m 46s\tremaining: 2m 33s\n",
      "1050:\tlearn: 0.0014569\ttotal: 2m 48s\tremaining: 2m 31s\n",
      "1060:\tlearn: 0.0014569\ttotal: 2m 49s\tremaining: 2m 30s\n",
      "1070:\tlearn: 0.0014462\ttotal: 2m 51s\tremaining: 2m 28s\n",
      "1080:\tlearn: 0.0014450\ttotal: 2m 52s\tremaining: 2m 26s\n",
      "1090:\tlearn: 0.0014450\ttotal: 2m 53s\tremaining: 2m 24s\n",
      "1100:\tlearn: 0.0014450\ttotal: 2m 55s\tremaining: 2m 23s\n",
      "1110:\tlearn: 0.0014450\ttotal: 2m 56s\tremaining: 2m 21s\n",
      "1120:\tlearn: 0.0014450\ttotal: 2m 58s\tremaining: 2m 19s\n",
      "1130:\tlearn: 0.0014450\ttotal: 2m 59s\tremaining: 2m 18s\n",
      "1140:\tlearn: 0.0014450\ttotal: 3m 1s\tremaining: 2m 16s\n",
      "1150:\tlearn: 0.0014438\ttotal: 3m 2s\tremaining: 2m 14s\n",
      "1160:\tlearn: 0.0014438\ttotal: 3m 4s\tremaining: 2m 12s\n",
      "1170:\tlearn: 0.0014437\ttotal: 3m 5s\tremaining: 2m 11s\n",
      "1180:\tlearn: 0.0014437\ttotal: 3m 6s\tremaining: 2m 9s\n",
      "1190:\tlearn: 0.0014437\ttotal: 3m 8s\tremaining: 2m 7s\n",
      "1200:\tlearn: 0.0014437\ttotal: 3m 9s\tremaining: 2m 6s\n",
      "1210:\tlearn: 0.0014437\ttotal: 3m 11s\tremaining: 2m 4s\n",
      "1220:\tlearn: 0.0014425\ttotal: 3m 12s\tremaining: 2m 3s\n",
      "1230:\tlearn: 0.0014425\ttotal: 3m 14s\tremaining: 2m 1s\n",
      "1240:\tlearn: 0.0014425\ttotal: 3m 15s\tremaining: 1m 59s\n",
      "1250:\tlearn: 0.0014214\ttotal: 3m 17s\tremaining: 1m 58s\n",
      "1260:\tlearn: 0.0014214\ttotal: 3m 18s\tremaining: 1m 56s\n",
      "1270:\tlearn: 0.0014214\ttotal: 3m 20s\tremaining: 1m 54s\n",
      "1280:\tlearn: 0.0014214\ttotal: 3m 21s\tremaining: 1m 53s\n",
      "1290:\tlearn: 0.0014213\ttotal: 3m 22s\tremaining: 1m 51s\n",
      "1300:\tlearn: 0.0014201\ttotal: 3m 24s\tremaining: 1m 49s\n",
      "1310:\tlearn: 0.0014201\ttotal: 3m 25s\tremaining: 1m 48s\n",
      "1320:\tlearn: 0.0014200\ttotal: 3m 27s\tremaining: 1m 46s\n",
      "1330:\tlearn: 0.0014200\ttotal: 3m 28s\tremaining: 1m 44s\n",
      "1340:\tlearn: 0.0014200\ttotal: 3m 30s\tremaining: 1m 43s\n",
      "1350:\tlearn: 0.0014200\ttotal: 3m 31s\tremaining: 1m 41s\n",
      "1360:\tlearn: 0.0014200\ttotal: 3m 32s\tremaining: 1m 39s\n",
      "1370:\tlearn: 0.0014200\ttotal: 3m 34s\tremaining: 1m 38s\n",
      "1380:\tlearn: 0.0014200\ttotal: 3m 35s\tremaining: 1m 36s\n",
      "1390:\tlearn: 0.0014200\ttotal: 3m 37s\tremaining: 1m 35s\n",
      "1400:\tlearn: 0.0014200\ttotal: 3m 38s\tremaining: 1m 33s\n",
      "1410:\tlearn: 0.0014199\ttotal: 3m 40s\tremaining: 1m 31s\n",
      "1420:\tlearn: 0.0014199\ttotal: 3m 41s\tremaining: 1m 30s\n",
      "1430:\tlearn: 0.0014199\ttotal: 3m 42s\tremaining: 1m 28s\n",
      "1440:\tlearn: 0.0014199\ttotal: 3m 44s\tremaining: 1m 27s\n",
      "1450:\tlearn: 0.0014199\ttotal: 3m 45s\tremaining: 1m 25s\n",
      "1460:\tlearn: 0.0014199\ttotal: 3m 47s\tremaining: 1m 23s\n",
      "1470:\tlearn: 0.0014199\ttotal: 3m 48s\tremaining: 1m 22s\n",
      "1480:\tlearn: 0.0014177\ttotal: 3m 50s\tremaining: 1m 20s\n",
      "1490:\tlearn: 0.0014177\ttotal: 3m 51s\tremaining: 1m 19s\n",
      "1500:\tlearn: 0.0014177\ttotal: 3m 53s\tremaining: 1m 17s\n",
      "1510:\tlearn: 0.0014177\ttotal: 3m 54s\tremaining: 1m 15s\n",
      "1520:\tlearn: 0.0014057\ttotal: 3m 56s\tremaining: 1m 14s\n",
      "1530:\tlearn: 0.0014057\ttotal: 3m 57s\tremaining: 1m 12s\n",
      "1540:\tlearn: 0.0014056\ttotal: 3m 59s\tremaining: 1m 11s\n",
      "1550:\tlearn: 0.0014056\ttotal: 4m\tremaining: 1m 9s\n",
      "1560:\tlearn: 0.0014056\ttotal: 4m 2s\tremaining: 1m 8s\n",
      "1570:\tlearn: 0.0014056\ttotal: 4m 3s\tremaining: 1m 6s\n",
      "1580:\tlearn: 0.0014056\ttotal: 4m 4s\tremaining: 1m 4s\n",
      "1590:\tlearn: 0.0014056\ttotal: 4m 6s\tremaining: 1m 3s\n",
      "1600:\tlearn: 0.0014056\ttotal: 4m 7s\tremaining: 1m 1s\n",
      "1610:\tlearn: 0.0014056\ttotal: 4m 9s\tremaining: 1m\n",
      "1620:\tlearn: 0.0014056\ttotal: 4m 10s\tremaining: 58.6s\n",
      "1630:\tlearn: 0.0014044\ttotal: 4m 12s\tremaining: 57s\n",
      "1640:\tlearn: 0.0014044\ttotal: 4m 13s\tremaining: 55.5s\n",
      "1650:\tlearn: 0.0014044\ttotal: 4m 14s\tremaining: 53.9s\n",
      "1660:\tlearn: 0.0014044\ttotal: 4m 16s\tremaining: 52.3s\n",
      "1670:\tlearn: 0.0014044\ttotal: 4m 17s\tremaining: 50.8s\n",
      "1680:\tlearn: 0.0014044\ttotal: 4m 19s\tremaining: 49.2s\n",
      "1690:\tlearn: 0.0014044\ttotal: 4m 20s\tremaining: 47.6s\n",
      "1700:\tlearn: 0.0014044\ttotal: 4m 22s\tremaining: 46.1s\n",
      "1710:\tlearn: 0.0014044\ttotal: 4m 23s\tremaining: 44.5s\n",
      "1720:\tlearn: 0.0014043\ttotal: 4m 24s\tremaining: 42.9s\n",
      "1730:\tlearn: 0.0014043\ttotal: 4m 26s\tremaining: 41.4s\n",
      "1740:\tlearn: 0.0014043\ttotal: 4m 27s\tremaining: 39.8s\n",
      "1750:\tlearn: 0.0014043\ttotal: 4m 29s\tremaining: 38.3s\n",
      "1760:\tlearn: 0.0014043\ttotal: 4m 30s\tremaining: 36.7s\n",
      "1770:\tlearn: 0.0014043\ttotal: 4m 32s\tremaining: 35.2s\n",
      "1780:\tlearn: 0.0014043\ttotal: 4m 33s\tremaining: 33.6s\n",
      "1790:\tlearn: 0.0014043\ttotal: 4m 34s\tremaining: 32.1s\n",
      "1800:\tlearn: 0.0014043\ttotal: 4m 36s\tremaining: 30.5s\n",
      "1810:\tlearn: 0.0014043\ttotal: 4m 37s\tremaining: 29s\n",
      "1820:\tlearn: 0.0014043\ttotal: 4m 39s\tremaining: 27.4s\n",
      "1830:\tlearn: 0.0014043\ttotal: 4m 40s\tremaining: 25.9s\n",
      "1840:\tlearn: 0.0014031\ttotal: 4m 42s\tremaining: 24.4s\n",
      "1850:\tlearn: 0.0014031\ttotal: 4m 43s\tremaining: 22.8s\n",
      "1860:\tlearn: 0.0014031\ttotal: 4m 44s\tremaining: 21.3s\n",
      "1870:\tlearn: 0.0014031\ttotal: 4m 46s\tremaining: 19.7s\n",
      "1880:\tlearn: 0.0014021\ttotal: 4m 47s\tremaining: 18.2s\n",
      "1890:\tlearn: 0.0014021\ttotal: 4m 49s\tremaining: 16.7s\n",
      "1900:\tlearn: 0.0014021\ttotal: 4m 50s\tremaining: 15.1s\n",
      "1910:\tlearn: 0.0014021\ttotal: 4m 52s\tremaining: 13.6s\n",
      "1920:\tlearn: 0.0014021\ttotal: 4m 53s\tremaining: 12.1s\n",
      "1930:\tlearn: 0.0014010\ttotal: 4m 54s\tremaining: 10.5s\n",
      "1940:\tlearn: 0.0014010\ttotal: 4m 56s\tremaining: 9.01s\n",
      "1950:\tlearn: 0.0014010\ttotal: 4m 57s\tremaining: 7.48s\n",
      "1960:\tlearn: 0.0014010\ttotal: 4m 59s\tremaining: 5.95s\n",
      "1970:\tlearn: 0.0014010\ttotal: 5m\tremaining: 4.42s\n",
      "1980:\tlearn: 0.0014010\ttotal: 5m 2s\tremaining: 2.9s\n",
      "1990:\tlearn: 0.0014010\ttotal: 5m 3s\tremaining: 1.37s\n",
      "1999:\tlearn: 0.0013999\ttotal: 5m 4s\tremaining: 0us\n",
      "\n",
      "Train harmonic mean  0.999811  | mrr  0.999622  | precision  1.0\n"
     ]
    }
   ],
   "source": [
    "clf = CatBoostClassifier()\n",
    "clf.set_params(**params)\n",
    "clf.set_params(**{'eval_metric':'Logloss'})\n",
    "clf.set_params(**{'use_best_model': False})\n",
    "\n",
    "df_train['predicts'] = 0\n",
    "df_valid['predicts'] = 0\n",
    "\n",
    "X_train=df_train.merge(bankclient_embed, how='left', left_on='bank', right_index=True\n",
    "                          ).merge(clickstream_embed, how='left', left_on='rtk', right_index=True).fillna(0)\n",
    "Y_train=df_train['target']\n",
    "    \n",
    "for j in full_list_of_features:\n",
    "    if j not in X_train.columns:\n",
    "        X_train[j] = 0\n",
    "            \n",
    "X_train = X_train[full_list_of_features].values\n",
    "    \n",
    "print(X_train.shape)\n",
    "\n",
    "clf.fit(X_train, Y_train, verbose=10) \n",
    "clf.save_model('model_baseline_puzzle.cbm')\n",
    "print()\n",
    "    \n",
    "df_train['predicts'] = clf.predict_proba(X_train)[:,1]\n",
    "n = 100\n",
    "    \n",
    "train_preds = df_train.loc[:, ['predicts','target', 'bank', 'rtk']].copy(deep=True)\n",
    "train_preds['pred_rank'] = train_preds.groupby('bank')['predicts'].rank(ascending=False)\n",
    "precision_train = train_preds[train_preds.pred_rank<=n]['target'].sum()/train_preds.bank.nunique()\n",
    "mrr_train = 1/train_preds[(train_preds.pred_rank<=n)]['pred_rank']*train_preds[(train_preds.pred_rank<=n)]['target']\n",
    "mrr_train = mrr_train.sum()/train_preds.bank.nunique()\n",
    "hm_train = 2/(1/precision_train+1/mrr_train)\n",
    "print('Train harmonic mean ', round(hm_train,6), ' | mrr ', round(mrr_train,6),' | precision ', round(precision_train,6))\n",
    "    \n",
    "del X_train"
   ]
  },
  {
   "cell_type": "code",
   "execution_count": 25,
   "id": "dc9cbe17",
   "metadata": {},
   "outputs": [],
   "source": [
    "clf.save_model('catboost_puzzle.cbm')"
   ]
  },
  {
   "cell_type": "code",
   "execution_count": 62,
   "id": "b24ae207",
   "metadata": {},
   "outputs": [
    {
     "data": {
      "text/html": [
       "<div>\n",
       "<style scoped>\n",
       "    .dataframe tbody tr th:only-of-type {\n",
       "        vertical-align: middle;\n",
       "    }\n",
       "\n",
       "    .dataframe tbody tr th {\n",
       "        vertical-align: top;\n",
       "    }\n",
       "\n",
       "    .dataframe thead th {\n",
       "        text-align: right;\n",
       "    }\n",
       "</style>\n",
       "<table border=\"1\" class=\"dataframe\">\n",
       "  <thead>\n",
       "    <tr style=\"text-align: right;\">\n",
       "      <th></th>\n",
       "      <th>col</th>\n",
       "      <th>imp</th>\n",
       "    </tr>\n",
       "  </thead>\n",
       "  <tbody>\n",
       "    <tr>\n",
       "      <th>207</th>\n",
       "      <td>count-770</td>\n",
       "      <td>8.173520</td>\n",
       "    </tr>\n",
       "    <tr>\n",
       "      <th>226</th>\n",
       "      <td>count-891</td>\n",
       "      <td>6.043245</td>\n",
       "    </tr>\n",
       "    <tr>\n",
       "      <th>153</th>\n",
       "      <td>count-493</td>\n",
       "      <td>5.960659</td>\n",
       "    </tr>\n",
       "    <tr>\n",
       "      <th>166</th>\n",
       "      <td>count-531</td>\n",
       "      <td>5.870943</td>\n",
       "    </tr>\n",
       "    <tr>\n",
       "      <th>99</th>\n",
       "      <td>count-339</td>\n",
       "      <td>5.825482</td>\n",
       "    </tr>\n",
       "    <tr>\n",
       "      <th>56</th>\n",
       "      <td>count-215</td>\n",
       "      <td>5.303236</td>\n",
       "    </tr>\n",
       "    <tr>\n",
       "      <th>87</th>\n",
       "      <td>count-308</td>\n",
       "      <td>5.021188</td>\n",
       "    </tr>\n",
       "    <tr>\n",
       "      <th>46</th>\n",
       "      <td>count-165</td>\n",
       "      <td>4.105866</td>\n",
       "    </tr>\n",
       "    <tr>\n",
       "      <th>68</th>\n",
       "      <td>count-251</td>\n",
       "      <td>3.404804</td>\n",
       "    </tr>\n",
       "    <tr>\n",
       "      <th>338</th>\n",
       "      <td>count-1459</td>\n",
       "      <td>2.983161</td>\n",
       "    </tr>\n",
       "    <tr>\n",
       "      <th>116</th>\n",
       "      <td>count-391</td>\n",
       "      <td>2.700652</td>\n",
       "    </tr>\n",
       "    <tr>\n",
       "      <th>67</th>\n",
       "      <td>count-248</td>\n",
       "      <td>2.488655</td>\n",
       "    </tr>\n",
       "    <tr>\n",
       "      <th>191</th>\n",
       "      <td>count-609</td>\n",
       "      <td>2.479328</td>\n",
       "    </tr>\n",
       "    <tr>\n",
       "      <th>25</th>\n",
       "      <td>count-68</td>\n",
       "      <td>2.292425</td>\n",
       "    </tr>\n",
       "    <tr>\n",
       "      <th>337</th>\n",
       "      <td>count-1458</td>\n",
       "      <td>1.901398</td>\n",
       "    </tr>\n",
       "    <tr>\n",
       "      <th>215</th>\n",
       "      <td>count-794</td>\n",
       "      <td>1.835730</td>\n",
       "    </tr>\n",
       "    <tr>\n",
       "      <th>54</th>\n",
       "      <td>count-211</td>\n",
       "      <td>1.829626</td>\n",
       "    </tr>\n",
       "    <tr>\n",
       "      <th>8</th>\n",
       "      <td>count-15</td>\n",
       "      <td>1.798206</td>\n",
       "    </tr>\n",
       "    <tr>\n",
       "      <th>5</th>\n",
       "      <td>count-12</td>\n",
       "      <td>1.754064</td>\n",
       "    </tr>\n",
       "    <tr>\n",
       "      <th>227</th>\n",
       "      <td>count-893</td>\n",
       "      <td>1.607860</td>\n",
       "    </tr>\n",
       "  </tbody>\n",
       "</table>\n",
       "</div>"
      ],
      "text/plain": [
       "            col       imp\n",
       "207   count-770  8.173520\n",
       "226   count-891  6.043245\n",
       "153   count-493  5.960659\n",
       "166   count-531  5.870943\n",
       "99    count-339  5.825482\n",
       "56    count-215  5.303236\n",
       "87    count-308  5.021188\n",
       "46    count-165  4.105866\n",
       "68    count-251  3.404804\n",
       "338  count-1459  2.983161\n",
       "116   count-391  2.700652\n",
       "67    count-248  2.488655\n",
       "191   count-609  2.479328\n",
       "25     count-68  2.292425\n",
       "337  count-1458  1.901398\n",
       "215   count-794  1.835730\n",
       "54    count-211  1.829626\n",
       "8      count-15  1.798206\n",
       "5      count-12  1.754064\n",
       "227   count-893  1.607860"
      ]
     },
     "execution_count": 62,
     "metadata": {},
     "output_type": "execute_result"
    }
   ],
   "source": [
    "# самые полезные фичи\n",
    "pd.DataFrame({'col':full_list_of_features, 'imp':clf.get_feature_importance()}).sort_values('imp', ascending=False).head(20)"
   ]
  },
  {
   "cell_type": "code",
   "execution_count": 63,
   "id": "bfb20ae3",
   "metadata": {},
   "outputs": [
    {
     "data": {
      "text/plain": [
       "1103"
      ]
     },
     "execution_count": 63,
     "metadata": {},
     "output_type": "execute_result"
    }
   ],
   "source": [
    "# треть фич не использовалась\n",
    "(clf.get_feature_importance()==0).sum()"
   ]
  },
  {
   "cell_type": "markdown",
   "id": "f26d1298",
   "metadata": {},
   "source": [
    "**Валидация на всех валидационных клиентах банка и ртк**"
   ]
  },
  {
   "cell_type": "code",
   "execution_count": 26,
   "id": "1a4bcdeb",
   "metadata": {},
   "outputs": [
    {
     "name": "stdout",
     "output_type": "stream",
     "text": [
      "2930 2463 7216590\n"
     ]
    }
   ],
   "source": [
    "valid_bank_ids = train_matching[(train_matching.bank.isin(bank_ids_shuffled[-s:]))]['bank']\n",
    "valid_rtk_ids = train_matching[(train_matching.bank.isin(valid_bank_ids))&(train_matching.rtk!=0)]['rtk'].drop_duplicates()\n",
    "df_valid = pd.DataFrame(valid_bank_ids, columns=['bank'])\n",
    "df_valid['rtk'] = df_valid['bank'].apply(lambda x: valid_rtk_ids.values.tolist())\n",
    "\n",
    "df_valid = df_valid.explode('rtk')\n",
    "\n",
    "df_valid['bank+rtk'] = df_valid['bank'].astype('str')+'_'+df_valid['rtk'].astype('str')\n",
    "df_valid['target'] = df_valid['bank+rtk'].isin(train_matching['bank+rtk']).astype('int')\n",
    "\n",
    "df_valid.drop_duplicates('bank+rtk', inplace=True)\n",
    "\n",
    "df_valid.reset_index(inplace=True, drop=True)\n",
    "\n",
    "print(df_valid.bank.nunique(), df_valid.rtk.nunique(), df_valid['bank+rtk'].nunique())"
   ]
  },
  {
   "cell_type": "code",
   "execution_count": 27,
   "id": "ac507cb0",
   "metadata": {},
   "outputs": [
    {
     "name": "stdout",
     "output_type": "stream",
     "text": [
      "memory used 5.05 Gb | memory available 6.85 Gb | memory available 57.57 percent\n"
     ]
    }
   ],
   "source": [
    "del [clickstream, transactions]\n",
    "gc.collect()\n",
    "print_memory()"
   ]
  },
  {
   "cell_type": "code",
   "execution_count": 28,
   "id": "4221c57b",
   "metadata": {},
   "outputs": [
    {
     "name": "stdout",
     "output_type": "stream",
     "text": [
      "0 1 2 3 4 5 6 7 8 9 10 11 12 13 14 15 16 17 18 19 20 21 22 23 24 25 26 27 28 29 30 31 32 33 34 35 36 37 38 39 40 41 42 43 44 45 46 47 48 49 50 51 52 53 54 55 56 57 58 \n",
      "Task 1 Valid harmonic mean  0.175474  | mrr  0.160746  | precision  0.193174\n",
      "Wall time: 4min 37s\n"
     ]
    }
   ],
   "source": [
    "%%time\n",
    "batch = 50\n",
    "for i in range(len(valid_bank_ids)//batch+1):\n",
    "    print(i, end=' ')\n",
    "    bank_batch = valid_bank_ids[i*batch:(i+1)*batch]\n",
    "    X_valid=df_valid[df_valid.bank.isin(bank_batch)].merge(bankclient_embed, how='left', left_on='bank', right_index=True\n",
    "                          ).merge(clickstream_embed, how='left', left_on='rtk', right_index=True).fillna(0)\n",
    "    X_valid = X_valid[full_list_of_features].values\n",
    "    df_valid.loc[df_valid.bank.isin(bank_batch), 'predicts'] = clf.predict_proba(X_valid)[:,1]\n",
    "    del X_valid\n",
    "    \n",
    "zeros_part = pd.DataFrame({'bank':valid_bank_ids, 'rtk':[0]*len(valid_bank_ids), 'predicts':[5]*len(valid_bank_ids)})\n",
    "zeros_part['bank+rtk'] = zeros_part['bank'].astype('str')+'_'+zeros_part['rtk'].astype('str')\n",
    "\n",
    "df_valid = pd.concat([df_valid, zeros_part], axis=0).reset_index(drop=True)\n",
    "df_valid['target'] = df_valid['bank+rtk'].isin(train_matching['bank+rtk']).astype('int')\n",
    "\n",
    "df_valid['pred_rank'] = df_valid.groupby('bank')['predicts'].rank(ascending=False)\n",
    "precision_valid = df_valid[df_valid.pred_rank<=n]['target'].sum()/df_valid.bank.nunique()\n",
    "mrr_valid = 1/df_valid[(df_valid.pred_rank<=n)]['pred_rank']*df_valid[(df_valid.pred_rank<=n)]['target']\n",
    "mrr_valid = mrr_valid.sum()/df_valid.bank.nunique()\n",
    "hm_valid = 2/(1/precision_valid+1/mrr_valid)\n",
    "\n",
    "print()\n",
    "print('Task 1 Valid harmonic mean ', round(hm_valid,6), ' | mrr ', round(mrr_valid,6),' | precision ', round(precision_valid,6))"
   ]
  },
  {
   "cell_type": "code",
   "execution_count": 29,
   "id": "f7c176ec",
   "metadata": {},
   "outputs": [
    {
     "name": "stdout",
     "output_type": "stream",
     "text": [
      "\n",
      "Task 2 Valid harmonic mean  0.003589  | mrr  0.001878  | precision  0.040179\n"
     ]
    }
   ],
   "source": [
    "# проверяем только для тех, у кого есть мэтчи и без учёта предсказания 0 в качестве наиболее вероятного мэтча\n",
    "\n",
    "valid_bank_ids = train_matching[(train_matching.bank.isin(bank_ids_shuffled[-s:]))&(train_matching.rtk!=0)]['bank']\n",
    "\n",
    "ind = (df_valid.pred_rank<=n+1)&(df_valid.pred_rank>1)&(df_valid.bank.isin(valid_bank_ids))\n",
    "precision_valid = df_valid[ind]['target'].sum()/df_valid.rtk.nunique()\n",
    "mrr_valid = 1/(df_valid[ind]['pred_rank']-1)*df_valid[ind]['target']\n",
    "mrr_valid = mrr_valid.sum()/df_valid.rtk.nunique()\n",
    "hm_valid = 2/(1/precision_valid+1/mrr_valid)\n",
    "\n",
    "print()\n",
    "print('Task 2 Valid harmonic mean ', round(hm_valid,6), ' | mrr ', round(mrr_valid,6),' | precision ', round(precision_valid,6))"
   ]
  },
  {
   "cell_type": "markdown",
   "id": "bc6c9ffa",
   "metadata": {},
   "source": [
    "**Сбор пазла**"
   ]
  },
  {
   "cell_type": "code",
   "execution_count": 30,
   "id": "e019c26e",
   "metadata": {},
   "outputs": [],
   "source": [
    "puzzle_bank_ids = puzzle['bank'].drop_duplicates()\n",
    "puzzle_rtk_ids = puzzle['rtk'].drop_duplicates()\n",
    "df_puzzle = pd.DataFrame(puzzle_bank_ids, columns=['bank'])\n",
    "df_puzzle['rtk'] = df_puzzle['bank'].apply(lambda x: puzzle_rtk_ids.values.tolist())\n",
    "\n",
    "df_puzzle = df_puzzle.explode('rtk')\n",
    "\n",
    "df_puzzle.reset_index(inplace=True, drop=True)"
   ]
  },
  {
   "cell_type": "code",
   "execution_count": 31,
   "id": "052be28e",
   "metadata": {},
   "outputs": [
    {
     "name": "stdout",
     "output_type": "stream",
     "text": [
      "0 1 2 3 4 5 6 7 8 9 10 11 12 13 14 15 16 17 18 19 20 21 22 23 24 25 26 27 28 29 30 31 32 33 34 35 36 37 38 39 40 41 42 43 44 45 46 47 48 49 50 51 52 53 54 55 56 57 58 59 60 61 62 63 64 65 66 67 68 69 70 71 72 73 74 75 76 77 78 79 80 81 82 83 84 85 86 87 88 89 90 91 92 93 94 95 96 97 98 99 \n",
      "Wall time: 16min 47s\n"
     ]
    }
   ],
   "source": [
    "%%time\n",
    "batch = 50\n",
    "for i in range(len(puzzle_bank_ids)//batch+1):\n",
    "    print(i, end=' ')\n",
    "    bank_batch = puzzle_bank_ids[i*batch:(i+1)*batch]\n",
    "    X_puzzle=df_puzzle[df_puzzle.bank.isin(bank_batch)].merge(bankclient_embed, how='left', left_on='bank', right_index=True\n",
    "                          ).merge(clickstream_embed, how='left', left_on='rtk', right_index=True).fillna(0)\n",
    "    X_puzzle = X_puzzle[full_list_of_features].values\n",
    "    df_puzzle.loc[df_puzzle.bank.isin(bank_batch), 'predicts'] = clf.predict_proba(X_puzzle)[:,1]\n",
    "    del X_puzzle\n",
    "    \n",
    "df_puzzle['pred_rank'] = df_puzzle.groupby('bank')['predicts'].rank(ascending=False)\n",
    "\n",
    "print()"
   ]
  },
  {
   "cell_type": "code",
   "execution_count": 32,
   "id": "79db2e34",
   "metadata": {},
   "outputs": [
    {
     "data": {
      "text/plain": [
       "100    4952\n",
       "Name: bank, dtype: int64"
      ]
     },
     "execution_count": 32,
     "metadata": {},
     "output_type": "execute_result"
    }
   ],
   "source": [
    "df_puzzle[df_puzzle.pred_rank<=100]['bank'].value_counts().value_counts()\n",
    "## там где 99 хорошо бы добавить на всякий случай !!!!"
   ]
  },
  {
   "cell_type": "code",
   "execution_count": 33,
   "id": "492cbb78",
   "metadata": {},
   "outputs": [],
   "source": [
    "sub = df_puzzle[df_puzzle.pred_rank<=100].copy(deep=True)\n",
    "sub['rtk'] = all_dicts['rtk_le'].inverse_transform(sub['rtk'].astype(int)-1)\n",
    "sub['bank'] = all_dicts['bank_le'].inverse_transform(sub['bank']-1)\n",
    "\n",
    "sub = sub.pivot_table(index='bank', values='rtk', aggfunc=list)\n",
    "sub['rtk'] = sub['rtk'].apply(lambda x: str(x))\n",
    "sub = sub.replace(\"'\", '', regex=True)\n",
    "sub.rename({'rtk':'rtk_list'}, axis=1).to_csv('sub_puzzle_baseline.csv', index=True)"
   ]
  }
 ],
 "metadata": {
  "kernelspec": {
   "display_name": "Python 3 (ipykernel)",
   "language": "python",
   "name": "python3"
  },
  "language_info": {
   "codemirror_mode": {
    "name": "ipython",
    "version": 3
   },
   "file_extension": ".py",
   "mimetype": "text/x-python",
   "name": "python",
   "nbconvert_exporter": "python",
   "pygments_lexer": "ipython3",
   "version": "3.9.7"
  }
 },
 "nbformat": 4,
 "nbformat_minor": 5
}
